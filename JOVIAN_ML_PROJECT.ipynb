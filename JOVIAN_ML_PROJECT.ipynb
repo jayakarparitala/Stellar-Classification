{
 "cells": [
  {
   "cell_type": "markdown",
   "metadata": {},
   "source": [
    "# Stellar Classification of Stars\n",
    "\n",
    "In this project, we process a messy dataset and make it ready for classification. We then classify the given stars into dwarfs and giants.\n",
    "\n",
    "We import raw dataset from Kaggle, clean it by removing unnecessary columns, handle missing data, encode data, balance and downsample data.\n",
    "\n",
    "Below is the link of dataset from kaggle\n",
    "\n",
    "\n",
    "https://www.kaggle.com/vinesmsuic/star-categorization-giants-and-dwarfs"
   ]
  },
  {
   "cell_type": "code",
   "execution_count": 1,
   "metadata": {
    "_cell_guid": "b1076dfc-b9ad-4769-8c92-a6c4dae69d19",
    "_uuid": "8f2839f25d086af736a60e9eeb907d3b93b6e0e5"
   },
   "outputs": [],
   "source": [
    "# This Python 3 environment comes with many helpful analytics libraries installed\n",
    "# It is defined by the kaggle/python Docker image: https://github.com/kaggle/docker-python\n",
    "# For example, here's several helpful packages to load\n",
    "\n",
    "import numpy as np # linear algebra\n",
    "import pandas as pd # data processing, CSV file I/O (e.g. pd.read_csv)\n"
   ]
  },
  {
   "cell_type": "code",
   "execution_count": 2,
   "metadata": {
    "_cell_guid": "79c7e3d0-c299-4dcb-8224-4455121ee9b0",
    "_uuid": "d629ff2d2480ee46fbb7e2d37f6b5fab8052498a"
   },
   "outputs": [
    {
     "data": {
      "text/html": [
       "<div>\n",
       "<style scoped>\n",
       "    .dataframe tbody tr th:only-of-type {\n",
       "        vertical-align: middle;\n",
       "    }\n",
       "\n",
       "    .dataframe tbody tr th {\n",
       "        vertical-align: top;\n",
       "    }\n",
       "\n",
       "    .dataframe thead th {\n",
       "        text-align: right;\n",
       "    }\n",
       "</style>\n",
       "<table border=\"1\" class=\"dataframe\">\n",
       "  <thead>\n",
       "    <tr style=\"text-align: right;\">\n",
       "      <th></th>\n",
       "      <th>Unnamed: 0</th>\n",
       "      <th>Vmag</th>\n",
       "      <th>Plx</th>\n",
       "      <th>e_Plx</th>\n",
       "      <th>B-V</th>\n",
       "      <th>SpType</th>\n",
       "    </tr>\n",
       "  </thead>\n",
       "  <tbody>\n",
       "    <tr>\n",
       "      <th>0</th>\n",
       "      <td>0</td>\n",
       "      <td>9.10</td>\n",
       "      <td>3.54</td>\n",
       "      <td>1.39</td>\n",
       "      <td>0.482</td>\n",
       "      <td>F5</td>\n",
       "    </tr>\n",
       "    <tr>\n",
       "      <th>1</th>\n",
       "      <td>1</td>\n",
       "      <td>9.27</td>\n",
       "      <td>21.90</td>\n",
       "      <td>3.10</td>\n",
       "      <td>0.999</td>\n",
       "      <td>K3V</td>\n",
       "    </tr>\n",
       "    <tr>\n",
       "      <th>2</th>\n",
       "      <td>2</td>\n",
       "      <td>6.61</td>\n",
       "      <td>2.81</td>\n",
       "      <td>0.63</td>\n",
       "      <td>-0.019</td>\n",
       "      <td>B9</td>\n",
       "    </tr>\n",
       "    <tr>\n",
       "      <th>3</th>\n",
       "      <td>3</td>\n",
       "      <td>8.06</td>\n",
       "      <td>7.75</td>\n",
       "      <td>0.97</td>\n",
       "      <td>0.370</td>\n",
       "      <td>F0V</td>\n",
       "    </tr>\n",
       "    <tr>\n",
       "      <th>4</th>\n",
       "      <td>4</td>\n",
       "      <td>8.55</td>\n",
       "      <td>2.87</td>\n",
       "      <td>1.11</td>\n",
       "      <td>0.902</td>\n",
       "      <td>G8III</td>\n",
       "    </tr>\n",
       "    <tr>\n",
       "      <th>...</th>\n",
       "      <td>...</td>\n",
       "      <td>...</td>\n",
       "      <td>...</td>\n",
       "      <td>...</td>\n",
       "      <td>...</td>\n",
       "      <td>...</td>\n",
       "    </tr>\n",
       "    <tr>\n",
       "      <th>99994</th>\n",
       "      <td>99994</td>\n",
       "      <td>8.72</td>\n",
       "      <td>3.07</td>\n",
       "      <td>0.87</td>\n",
       "      <td>0.097</td>\n",
       "      <td>B3</td>\n",
       "    </tr>\n",
       "    <tr>\n",
       "      <th>99995</th>\n",
       "      <td>99995</td>\n",
       "      <td>9.25</td>\n",
       "      <td></td>\n",
       "      <td></td>\n",
       "      <td>0.131</td>\n",
       "      <td>A1V</td>\n",
       "    </tr>\n",
       "    <tr>\n",
       "      <th>99996</th>\n",
       "      <td>99996</td>\n",
       "      <td>8.08</td>\n",
       "      <td>1.07</td>\n",
       "      <td>0.68</td>\n",
       "      <td>1.094</td>\n",
       "      <td>G5</td>\n",
       "    </tr>\n",
       "    <tr>\n",
       "      <th>99997</th>\n",
       "      <td>99997</td>\n",
       "      <td>6.98</td>\n",
       "      <td>2.97</td>\n",
       "      <td>0.76</td>\n",
       "      <td>-0.143</td>\n",
       "      <td>B1.5V</td>\n",
       "    </tr>\n",
       "    <tr>\n",
       "      <th>99998</th>\n",
       "      <td>99998</td>\n",
       "      <td>8.51</td>\n",
       "      <td>-1.18</td>\n",
       "      <td>1.34</td>\n",
       "      <td>1.568</td>\n",
       "      <td>K5/M0III</td>\n",
       "    </tr>\n",
       "  </tbody>\n",
       "</table>\n",
       "<p>99999 rows × 6 columns</p>\n",
       "</div>"
      ],
      "text/plain": [
       "       Unnamed: 0   Vmag      Plx   e_Plx     B-V    SpType\n",
       "0               0   9.10     3.54    1.39   0.482        F5\n",
       "1               1   9.27    21.90    3.10   0.999       K3V\n",
       "2               2   6.61     2.81    0.63  -0.019        B9\n",
       "3               3   8.06     7.75    0.97   0.370       F0V\n",
       "4               4   8.55     2.87    1.11   0.902     G8III\n",
       "...           ...    ...      ...     ...     ...       ...\n",
       "99994       99994   8.72     3.07    0.87   0.097        B3\n",
       "99995       99995   9.25                    0.131       A1V\n",
       "99996       99996   8.08     1.07    0.68   1.094        G5\n",
       "99997       99997   6.98     2.97    0.76  -0.143     B1.5V\n",
       "99998       99998   8.51    -1.18    1.34   1.568  K5/M0III\n",
       "\n",
       "[99999 rows x 6 columns]"
      ]
     },
     "execution_count": 2,
     "metadata": {},
     "output_type": "execute_result"
    }
   ],
   "source": [
    "# Use pd.read_csv to read file\n",
    "path = \"Star99999_raw.csv\"\n",
    "raw_data = pd.read_csv(path)\n",
    "\n",
    "raw_data"
   ]
  },
  {
   "cell_type": "code",
   "execution_count": 3,
   "metadata": {},
   "outputs": [
    {
     "data": {
      "text/plain": [
       "Index(['Unnamed: 0', 'Vmag', 'Plx', 'e_Plx', 'B-V', 'SpType'], dtype='object')"
      ]
     },
     "execution_count": 3,
     "metadata": {},
     "output_type": "execute_result"
    }
   ],
   "source": [
    "raw_data.columns"
   ]
  },
  {
   "cell_type": "markdown",
   "metadata": {},
   "source": [
    "* `Vmag` - Visual Apparent Magnitude of the Star \n",
    "* `Plx` - Distance Between the Star and the Earth \n",
    "* `e_Plx` - Standard Error of `Plx` \n",
    "* `B-V` - B-V color index. \n",
    "    * Hot star has a B-V color index ~ 0 or negative, \n",
    "    * Cool star has a B-V color index ~ to 2.0\n",
    "    * Other stars : 0 - 2.0\n",
    "* `SpType` -  [Stellar classification.](https://en.wikipedia.org/wiki/Stellar_classification) (Roman Numerals &gt;IV are giants. Otherwise are dwarfs) \n"
   ]
  },
  {
   "cell_type": "code",
   "execution_count": 4,
   "metadata": {},
   "outputs": [
    {
     "name": "stdout",
     "output_type": "stream",
     "text": [
      "<class 'pandas.core.frame.DataFrame'>\n",
      "RangeIndex: 99999 entries, 0 to 99998\n",
      "Data columns (total 6 columns):\n",
      " #   Column      Non-Null Count  Dtype \n",
      "---  ------      --------------  ----- \n",
      " 0   Unnamed: 0  99999 non-null  int64 \n",
      " 1   Vmag        99999 non-null  object\n",
      " 2   Plx         99999 non-null  object\n",
      " 3   e_Plx       99999 non-null  object\n",
      " 4   B-V         99999 non-null  object\n",
      " 5   SpType      97377 non-null  object\n",
      "dtypes: int64(1), object(5)\n",
      "memory usage: 4.6+ MB\n"
     ]
    }
   ],
   "source": [
    "# Check the DataType of our dataset\n",
    "raw_data.info()"
   ]
  },
  {
   "cell_type": "code",
   "execution_count": 5,
   "metadata": {},
   "outputs": [],
   "source": [
    "# Convert Columns data type to float values\n",
    "raw_data[\"Vmag\"] = pd.to_numeric(raw_data[\"Vmag\"], downcast=\"float\", errors='coerce')\n",
    "raw_data[\"Plx\"] = pd.to_numeric(raw_data[\"Plx\"], downcast=\"float\", errors='coerce')\n",
    "raw_data[\"e_Plx\"] = pd.to_numeric(raw_data[\"e_Plx\"], downcast=\"float\", errors='coerce')\n",
    "raw_data[\"B-V\"] = pd.to_numeric(raw_data[\"B-V\"], downcast=\"float\", errors='coerce')"
   ]
  },
  {
   "cell_type": "markdown",
   "metadata": {},
   "source": [
    "We are converting objects to float value and 'coerce' is used to convert bad non-numeric values to NaN"
   ]
  },
  {
   "cell_type": "code",
   "execution_count": 6,
   "metadata": {},
   "outputs": [],
   "source": [
    "raw_data = raw_data.drop('Unnamed: 0', axis=1)"
   ]
  },
  {
   "cell_type": "code",
   "execution_count": 7,
   "metadata": {},
   "outputs": [
    {
     "name": "stdout",
     "output_type": "stream",
     "text": [
      "<class 'pandas.core.frame.DataFrame'>\n",
      "RangeIndex: 99999 entries, 0 to 99998\n",
      "Data columns (total 5 columns):\n",
      " #   Column  Non-Null Count  Dtype  \n",
      "---  ------  --------------  -----  \n",
      " 0   Vmag    99998 non-null  float32\n",
      " 1   Plx     99768 non-null  float32\n",
      " 2   e_Plx   99768 non-null  float32\n",
      " 3   B-V     98871 non-null  float32\n",
      " 4   SpType  97377 non-null  object \n",
      "dtypes: float32(4), object(1)\n",
      "memory usage: 2.3+ MB\n"
     ]
    }
   ],
   "source": [
    "# Check the DataType of our dataset\n",
    "raw_data.info()"
   ]
  },
  {
   "cell_type": "markdown",
   "metadata": {},
   "source": [
    "## Handling Missing data\n"
   ]
  },
  {
   "cell_type": "code",
   "execution_count": 8,
   "metadata": {},
   "outputs": [
    {
     "data": {
      "text/plain": [
       "Vmag         1\n",
       "Plx        231\n",
       "e_Plx      231\n",
       "B-V       1128\n",
       "SpType    2622\n",
       "dtype: int64"
      ]
     },
     "execution_count": 8,
     "metadata": {},
     "output_type": "execute_result"
    }
   ],
   "source": [
    "# get the number of missing data points per column\n",
    "missing_values_count = raw_data.isnull().sum()\n",
    "\n",
    "missing_values_count"
   ]
  },
  {
   "cell_type": "code",
   "execution_count": 9,
   "metadata": {},
   "outputs": [
    {
     "name": "stdout",
     "output_type": "stream",
     "text": [
      "Percentage Missing: 0.84%\n"
     ]
    }
   ],
   "source": [
    "# how many total missing values do we have?\n",
    "total_cells = np.product(raw_data.shape)\n",
    "total_missing = missing_values_count.sum()\n",
    "\n",
    "# percentage of data that is missing\n",
    "percent_missing = (total_missing/total_cells)\n",
    "print(\"Percentage Missing:\", \"{:.2%}\".format(percent_missing))"
   ]
  },
  {
   "cell_type": "markdown",
   "metadata": {},
   "source": [
    "From the percentage of missing data, since it is so small (only 0.84%), we can just drop the rows.\n",
    "\n",
    "Let's see what will happen if we remove all the rows that contain a missing value."
   ]
  },
  {
   "cell_type": "markdown",
   "metadata": {},
   "source": [
    "## Dropping Missing Data"
   ]
  },
  {
   "cell_type": "code",
   "execution_count": 10,
   "metadata": {},
   "outputs": [
    {
     "data": {
      "text/html": [
       "<div>\n",
       "<style scoped>\n",
       "    .dataframe tbody tr th:only-of-type {\n",
       "        vertical-align: middle;\n",
       "    }\n",
       "\n",
       "    .dataframe tbody tr th {\n",
       "        vertical-align: top;\n",
       "    }\n",
       "\n",
       "    .dataframe thead th {\n",
       "        text-align: right;\n",
       "    }\n",
       "</style>\n",
       "<table border=\"1\" class=\"dataframe\">\n",
       "  <thead>\n",
       "    <tr style=\"text-align: right;\">\n",
       "      <th></th>\n",
       "      <th>Vmag</th>\n",
       "      <th>Plx</th>\n",
       "      <th>e_Plx</th>\n",
       "      <th>B-V</th>\n",
       "      <th>SpType</th>\n",
       "    </tr>\n",
       "  </thead>\n",
       "  <tbody>\n",
       "    <tr>\n",
       "      <th>0</th>\n",
       "      <td>9.10</td>\n",
       "      <td>3.54</td>\n",
       "      <td>1.39</td>\n",
       "      <td>0.482</td>\n",
       "      <td>F5</td>\n",
       "    </tr>\n",
       "    <tr>\n",
       "      <th>1</th>\n",
       "      <td>9.27</td>\n",
       "      <td>21.90</td>\n",
       "      <td>3.10</td>\n",
       "      <td>0.999</td>\n",
       "      <td>K3V</td>\n",
       "    </tr>\n",
       "    <tr>\n",
       "      <th>2</th>\n",
       "      <td>6.61</td>\n",
       "      <td>2.81</td>\n",
       "      <td>0.63</td>\n",
       "      <td>-0.019</td>\n",
       "      <td>B9</td>\n",
       "    </tr>\n",
       "    <tr>\n",
       "      <th>3</th>\n",
       "      <td>8.06</td>\n",
       "      <td>7.75</td>\n",
       "      <td>0.97</td>\n",
       "      <td>0.370</td>\n",
       "      <td>F0V</td>\n",
       "    </tr>\n",
       "    <tr>\n",
       "      <th>4</th>\n",
       "      <td>8.55</td>\n",
       "      <td>2.87</td>\n",
       "      <td>1.11</td>\n",
       "      <td>0.902</td>\n",
       "      <td>G8III</td>\n",
       "    </tr>\n",
       "    <tr>\n",
       "      <th>...</th>\n",
       "      <td>...</td>\n",
       "      <td>...</td>\n",
       "      <td>...</td>\n",
       "      <td>...</td>\n",
       "      <td>...</td>\n",
       "    </tr>\n",
       "    <tr>\n",
       "      <th>99993</th>\n",
       "      <td>7.92</td>\n",
       "      <td>3.93</td>\n",
       "      <td>1.24</td>\n",
       "      <td>0.133</td>\n",
       "      <td>Am...</td>\n",
       "    </tr>\n",
       "    <tr>\n",
       "      <th>99994</th>\n",
       "      <td>8.72</td>\n",
       "      <td>3.07</td>\n",
       "      <td>0.87</td>\n",
       "      <td>0.097</td>\n",
       "      <td>B3</td>\n",
       "    </tr>\n",
       "    <tr>\n",
       "      <th>99996</th>\n",
       "      <td>8.08</td>\n",
       "      <td>1.07</td>\n",
       "      <td>0.68</td>\n",
       "      <td>1.094</td>\n",
       "      <td>G5</td>\n",
       "    </tr>\n",
       "    <tr>\n",
       "      <th>99997</th>\n",
       "      <td>6.98</td>\n",
       "      <td>2.97</td>\n",
       "      <td>0.76</td>\n",
       "      <td>-0.143</td>\n",
       "      <td>B1.5V</td>\n",
       "    </tr>\n",
       "    <tr>\n",
       "      <th>99998</th>\n",
       "      <td>8.51</td>\n",
       "      <td>-1.18</td>\n",
       "      <td>1.34</td>\n",
       "      <td>1.568</td>\n",
       "      <td>K5/M0III</td>\n",
       "    </tr>\n",
       "  </tbody>\n",
       "</table>\n",
       "<p>96742 rows × 5 columns</p>\n",
       "</div>"
      ],
      "text/plain": [
       "       Vmag    Plx  e_Plx    B-V    SpType\n",
       "0      9.10   3.54   1.39  0.482        F5\n",
       "1      9.27  21.90   3.10  0.999       K3V\n",
       "2      6.61   2.81   0.63 -0.019        B9\n",
       "3      8.06   7.75   0.97  0.370       F0V\n",
       "4      8.55   2.87   1.11  0.902     G8III\n",
       "...     ...    ...    ...    ...       ...\n",
       "99993  7.92   3.93   1.24  0.133     Am...\n",
       "99994  8.72   3.07   0.87  0.097        B3\n",
       "99996  8.08   1.07   0.68  1.094        G5\n",
       "99997  6.98   2.97   0.76 -0.143     B1.5V\n",
       "99998  8.51  -1.18   1.34  1.568  K5/M0III\n",
       "\n",
       "[96742 rows x 5 columns]"
      ]
     },
     "execution_count": 10,
     "metadata": {},
     "output_type": "execute_result"
    }
   ],
   "source": [
    "# remove all the rows that contain a missing value\n",
    "# better to store it into a new variable to avoid confusion\n",
    "raw_data_na_dropped = raw_data.dropna() \n",
    "\n",
    "raw_data_na_dropped"
   ]
  },
  {
   "cell_type": "code",
   "execution_count": 11,
   "metadata": {},
   "outputs": [
    {
     "name": "stdout",
     "output_type": "stream",
     "text": [
      "Rows we dropped from original dataset: 3257 \n",
      "\n",
      "Percentage Loss: 3.26%\n"
     ]
    }
   ],
   "source": [
    "# just how much rows did we drop?\n",
    "dropped_rows_count = raw_data.shape[0]-raw_data_na_dropped.shape[0]\n",
    "print(\"Rows we dropped from original dataset: %d \\n\" % dropped_rows_count)\n",
    "\n",
    "# Percentage we dropped\n",
    "percent_dropped = dropped_rows_count/raw_data.shape[0]\n",
    "print(\"Percentage Loss:\", \"{:.2%}\".format(percent_dropped))"
   ]
  },
  {
   "cell_type": "markdown",
   "metadata": {},
   "source": [
    "Lastly, read the statistics and info again."
   ]
  },
  {
   "cell_type": "code",
   "execution_count": 12,
   "metadata": {},
   "outputs": [
    {
     "data": {
      "text/html": [
       "<div>\n",
       "<style scoped>\n",
       "    .dataframe tbody tr th:only-of-type {\n",
       "        vertical-align: middle;\n",
       "    }\n",
       "\n",
       "    .dataframe tbody tr th {\n",
       "        vertical-align: top;\n",
       "    }\n",
       "\n",
       "    .dataframe thead th {\n",
       "        text-align: right;\n",
       "    }\n",
       "</style>\n",
       "<table border=\"1\" class=\"dataframe\">\n",
       "  <thead>\n",
       "    <tr style=\"text-align: right;\">\n",
       "      <th></th>\n",
       "      <th>Vmag</th>\n",
       "      <th>Plx</th>\n",
       "      <th>e_Plx</th>\n",
       "      <th>B-V</th>\n",
       "    </tr>\n",
       "  </thead>\n",
       "  <tbody>\n",
       "    <tr>\n",
       "      <th>count</th>\n",
       "      <td>96742.000000</td>\n",
       "      <td>96742.000000</td>\n",
       "      <td>96742.000000</td>\n",
       "      <td>96742.000000</td>\n",
       "    </tr>\n",
       "    <tr>\n",
       "      <th>mean</th>\n",
       "      <td>8.291918</td>\n",
       "      <td>7.105242</td>\n",
       "      <td>1.264163</td>\n",
       "      <td>0.700663</td>\n",
       "    </tr>\n",
       "    <tr>\n",
       "      <th>std</th>\n",
       "      <td>1.247995</td>\n",
       "      <td>11.145643</td>\n",
       "      <td>1.156202</td>\n",
       "      <td>0.490053</td>\n",
       "    </tr>\n",
       "    <tr>\n",
       "      <th>min</th>\n",
       "      <td>-1.440000</td>\n",
       "      <td>-35.099998</td>\n",
       "      <td>0.380000</td>\n",
       "      <td>-0.400000</td>\n",
       "    </tr>\n",
       "    <tr>\n",
       "      <th>25%</th>\n",
       "      <td>7.610000</td>\n",
       "      <td>2.520000</td>\n",
       "      <td>0.870000</td>\n",
       "      <td>0.342000</td>\n",
       "    </tr>\n",
       "    <tr>\n",
       "      <th>50%</th>\n",
       "      <td>8.400000</td>\n",
       "      <td>4.600000</td>\n",
       "      <td>1.080000</td>\n",
       "      <td>0.605000</td>\n",
       "    </tr>\n",
       "    <tr>\n",
       "      <th>75%</th>\n",
       "      <td>9.070000</td>\n",
       "      <td>8.270000</td>\n",
       "      <td>1.360000</td>\n",
       "      <td>1.072000</td>\n",
       "    </tr>\n",
       "    <tr>\n",
       "      <th>max</th>\n",
       "      <td>13.610000</td>\n",
       "      <td>772.330017</td>\n",
       "      <td>69.070000</td>\n",
       "      <td>5.460000</td>\n",
       "    </tr>\n",
       "  </tbody>\n",
       "</table>\n",
       "</div>"
      ],
      "text/plain": [
       "               Vmag           Plx         e_Plx           B-V\n",
       "count  96742.000000  96742.000000  96742.000000  96742.000000\n",
       "mean       8.291918      7.105242      1.264163      0.700663\n",
       "std        1.247995     11.145643      1.156202      0.490053\n",
       "min       -1.440000    -35.099998      0.380000     -0.400000\n",
       "25%        7.610000      2.520000      0.870000      0.342000\n",
       "50%        8.400000      4.600000      1.080000      0.605000\n",
       "75%        9.070000      8.270000      1.360000      1.072000\n",
       "max       13.610000    772.330017     69.070000      5.460000"
      ]
     },
     "execution_count": 12,
     "metadata": {},
     "output_type": "execute_result"
    }
   ],
   "source": [
    "raw_data_na_dropped.describe()"
   ]
  },
  {
   "cell_type": "code",
   "execution_count": 13,
   "metadata": {},
   "outputs": [],
   "source": [
    "raw_data_na_dropped_reindex = raw_data_na_dropped.reset_index(drop=True)"
   ]
  },
  {
   "cell_type": "code",
   "execution_count": 14,
   "metadata": {},
   "outputs": [
    {
     "name": "stdout",
     "output_type": "stream",
     "text": [
      "<class 'pandas.core.frame.DataFrame'>\n",
      "RangeIndex: 96742 entries, 0 to 96741\n",
      "Data columns (total 5 columns):\n",
      " #   Column  Non-Null Count  Dtype  \n",
      "---  ------  --------------  -----  \n",
      " 0   Vmag    96742 non-null  float32\n",
      " 1   Plx     96742 non-null  float32\n",
      " 2   e_Plx   96742 non-null  float32\n",
      " 3   B-V     96742 non-null  float32\n",
      " 4   SpType  96742 non-null  object \n",
      "dtypes: float32(4), object(1)\n",
      "memory usage: 2.2+ MB\n"
     ]
    }
   ],
   "source": [
    "raw_data_na_dropped_reindex.info()"
   ]
  },
  {
   "cell_type": "markdown",
   "metadata": {},
   "source": [
    "Looks like we have finally cleaned out all the missing values!\n",
    "\n",
    "Finally, we can save our progress to a csv file.\n",
    "* Remember to use `index=False` if you don't want to create separate column of indexes again!\n",
    "\n",
    "https://pandas.pydata.org/pandas-docs/stable/reference/api/pandas.DataFrame.to_csv.html\n",
    "https://stackoverflow.com/questions/20845213/how-to-avoid-python-pandas-creating-an-index-in-a-saved-csv"
   ]
  },
  {
   "cell_type": "markdown",
   "metadata": {},
   "source": [
    "# Appending New Column for Absolute Magnitude(AbsMag)"
   ]
  },
  {
   "cell_type": "markdown",
   "metadata": {},
   "source": [
    "## Finding Absolute Magnitude\n",
    "\n",
    "The absolute magnitude of the stars were generated via the equation:\n",
    "![](https://i.imgur.com/tt1h8bu.png)\n",
    "Where $M$ represents the absolute magnitude `Amag`, \n",
    "$m$ represents the visual apparent magnitude `Vmag`\n",
    "and $p$ represents stellar parallax `Plx`.\n",
    "\n",
    "\n",
    "In this session, we will create a new column `Amag` to store $M$.\n",
    "\n",
    "Things need to be aware:\n",
    "* Taking log of 0 would result in a infinity, which is what we dont want to see\n",
    "  * To fix this: Dropping rows with `Plx` = 0\n",
    "* Taking log of -ve numbers would result complex numbers, which is what we dont want to see too.\n",
    "  * To fix this: Taking Absolute value of `Plx`\n"
   ]
  },
  {
   "cell_type": "code",
   "execution_count": 15,
   "metadata": {},
   "outputs": [
    {
     "data": {
      "text/html": [
       "<div>\n",
       "<style scoped>\n",
       "    .dataframe tbody tr th:only-of-type {\n",
       "        vertical-align: middle;\n",
       "    }\n",
       "\n",
       "    .dataframe tbody tr th {\n",
       "        vertical-align: top;\n",
       "    }\n",
       "\n",
       "    .dataframe thead th {\n",
       "        text-align: right;\n",
       "    }\n",
       "</style>\n",
       "<table border=\"1\" class=\"dataframe\">\n",
       "  <thead>\n",
       "    <tr style=\"text-align: right;\">\n",
       "      <th></th>\n",
       "      <th>Vmag</th>\n",
       "      <th>Plx</th>\n",
       "      <th>e_Plx</th>\n",
       "      <th>B-V</th>\n",
       "      <th>SpType</th>\n",
       "    </tr>\n",
       "  </thead>\n",
       "  <tbody>\n",
       "    <tr>\n",
       "      <th>0</th>\n",
       "      <td>9.10</td>\n",
       "      <td>3.54</td>\n",
       "      <td>1.39</td>\n",
       "      <td>0.482</td>\n",
       "      <td>F5</td>\n",
       "    </tr>\n",
       "    <tr>\n",
       "      <th>1</th>\n",
       "      <td>9.27</td>\n",
       "      <td>21.90</td>\n",
       "      <td>3.10</td>\n",
       "      <td>0.999</td>\n",
       "      <td>K3V</td>\n",
       "    </tr>\n",
       "    <tr>\n",
       "      <th>2</th>\n",
       "      <td>6.61</td>\n",
       "      <td>2.81</td>\n",
       "      <td>0.63</td>\n",
       "      <td>-0.019</td>\n",
       "      <td>B9</td>\n",
       "    </tr>\n",
       "    <tr>\n",
       "      <th>3</th>\n",
       "      <td>8.06</td>\n",
       "      <td>7.75</td>\n",
       "      <td>0.97</td>\n",
       "      <td>0.370</td>\n",
       "      <td>F0V</td>\n",
       "    </tr>\n",
       "    <tr>\n",
       "      <th>4</th>\n",
       "      <td>8.55</td>\n",
       "      <td>2.87</td>\n",
       "      <td>1.11</td>\n",
       "      <td>0.902</td>\n",
       "      <td>G8III</td>\n",
       "    </tr>\n",
       "    <tr>\n",
       "      <th>...</th>\n",
       "      <td>...</td>\n",
       "      <td>...</td>\n",
       "      <td>...</td>\n",
       "      <td>...</td>\n",
       "      <td>...</td>\n",
       "    </tr>\n",
       "    <tr>\n",
       "      <th>96737</th>\n",
       "      <td>7.92</td>\n",
       "      <td>3.93</td>\n",
       "      <td>1.24</td>\n",
       "      <td>0.133</td>\n",
       "      <td>Am...</td>\n",
       "    </tr>\n",
       "    <tr>\n",
       "      <th>96738</th>\n",
       "      <td>8.72</td>\n",
       "      <td>3.07</td>\n",
       "      <td>0.87</td>\n",
       "      <td>0.097</td>\n",
       "      <td>B3</td>\n",
       "    </tr>\n",
       "    <tr>\n",
       "      <th>96739</th>\n",
       "      <td>8.08</td>\n",
       "      <td>1.07</td>\n",
       "      <td>0.68</td>\n",
       "      <td>1.094</td>\n",
       "      <td>G5</td>\n",
       "    </tr>\n",
       "    <tr>\n",
       "      <th>96740</th>\n",
       "      <td>6.98</td>\n",
       "      <td>2.97</td>\n",
       "      <td>0.76</td>\n",
       "      <td>-0.143</td>\n",
       "      <td>B1.5V</td>\n",
       "    </tr>\n",
       "    <tr>\n",
       "      <th>96741</th>\n",
       "      <td>8.51</td>\n",
       "      <td>-1.18</td>\n",
       "      <td>1.34</td>\n",
       "      <td>1.568</td>\n",
       "      <td>K5/M0III</td>\n",
       "    </tr>\n",
       "  </tbody>\n",
       "</table>\n",
       "<p>96742 rows × 5 columns</p>\n",
       "</div>"
      ],
      "text/plain": [
       "       Vmag    Plx  e_Plx    B-V    SpType\n",
       "0      9.10   3.54   1.39  0.482        F5\n",
       "1      9.27  21.90   3.10  0.999       K3V\n",
       "2      6.61   2.81   0.63 -0.019        B9\n",
       "3      8.06   7.75   0.97  0.370       F0V\n",
       "4      8.55   2.87   1.11  0.902     G8III\n",
       "...     ...    ...    ...    ...       ...\n",
       "96737  7.92   3.93   1.24  0.133     Am...\n",
       "96738  8.72   3.07   0.87  0.097        B3\n",
       "96739  8.08   1.07   0.68  1.094        G5\n",
       "96740  6.98   2.97   0.76 -0.143     B1.5V\n",
       "96741  8.51  -1.18   1.34  1.568  K5/M0III\n",
       "\n",
       "[96742 rows x 5 columns]"
      ]
     },
     "execution_count": 15,
     "metadata": {},
     "output_type": "execute_result"
    }
   ],
   "source": [
    "df = raw_data_na_dropped_reindex.copy()\n",
    "df"
   ]
  },
  {
   "cell_type": "code",
   "execution_count": 16,
   "metadata": {},
   "outputs": [
    {
     "data": {
      "text/html": [
       "<div>\n",
       "<style scoped>\n",
       "    .dataframe tbody tr th:only-of-type {\n",
       "        vertical-align: middle;\n",
       "    }\n",
       "\n",
       "    .dataframe tbody tr th {\n",
       "        vertical-align: top;\n",
       "    }\n",
       "\n",
       "    .dataframe thead th {\n",
       "        text-align: right;\n",
       "    }\n",
       "</style>\n",
       "<table border=\"1\" class=\"dataframe\">\n",
       "  <thead>\n",
       "    <tr style=\"text-align: right;\">\n",
       "      <th></th>\n",
       "      <th>Vmag</th>\n",
       "      <th>Plx</th>\n",
       "      <th>e_Plx</th>\n",
       "      <th>B-V</th>\n",
       "      <th>SpType</th>\n",
       "    </tr>\n",
       "  </thead>\n",
       "  <tbody>\n",
       "    <tr>\n",
       "      <th>0</th>\n",
       "      <td>9.10</td>\n",
       "      <td>3.54</td>\n",
       "      <td>1.39</td>\n",
       "      <td>0.482</td>\n",
       "      <td>F5</td>\n",
       "    </tr>\n",
       "    <tr>\n",
       "      <th>1</th>\n",
       "      <td>9.27</td>\n",
       "      <td>21.90</td>\n",
       "      <td>3.10</td>\n",
       "      <td>0.999</td>\n",
       "      <td>K3V</td>\n",
       "    </tr>\n",
       "    <tr>\n",
       "      <th>2</th>\n",
       "      <td>6.61</td>\n",
       "      <td>2.81</td>\n",
       "      <td>0.63</td>\n",
       "      <td>-0.019</td>\n",
       "      <td>B9</td>\n",
       "    </tr>\n",
       "    <tr>\n",
       "      <th>3</th>\n",
       "      <td>8.06</td>\n",
       "      <td>7.75</td>\n",
       "      <td>0.97</td>\n",
       "      <td>0.370</td>\n",
       "      <td>F0V</td>\n",
       "    </tr>\n",
       "    <tr>\n",
       "      <th>4</th>\n",
       "      <td>8.55</td>\n",
       "      <td>2.87</td>\n",
       "      <td>1.11</td>\n",
       "      <td>0.902</td>\n",
       "      <td>G8III</td>\n",
       "    </tr>\n",
       "    <tr>\n",
       "      <th>...</th>\n",
       "      <td>...</td>\n",
       "      <td>...</td>\n",
       "      <td>...</td>\n",
       "      <td>...</td>\n",
       "      <td>...</td>\n",
       "    </tr>\n",
       "    <tr>\n",
       "      <th>96702</th>\n",
       "      <td>7.92</td>\n",
       "      <td>3.93</td>\n",
       "      <td>1.24</td>\n",
       "      <td>0.133</td>\n",
       "      <td>Am...</td>\n",
       "    </tr>\n",
       "    <tr>\n",
       "      <th>96703</th>\n",
       "      <td>8.72</td>\n",
       "      <td>3.07</td>\n",
       "      <td>0.87</td>\n",
       "      <td>0.097</td>\n",
       "      <td>B3</td>\n",
       "    </tr>\n",
       "    <tr>\n",
       "      <th>96704</th>\n",
       "      <td>8.08</td>\n",
       "      <td>1.07</td>\n",
       "      <td>0.68</td>\n",
       "      <td>1.094</td>\n",
       "      <td>G5</td>\n",
       "    </tr>\n",
       "    <tr>\n",
       "      <th>96705</th>\n",
       "      <td>6.98</td>\n",
       "      <td>2.97</td>\n",
       "      <td>0.76</td>\n",
       "      <td>-0.143</td>\n",
       "      <td>B1.5V</td>\n",
       "    </tr>\n",
       "    <tr>\n",
       "      <th>96706</th>\n",
       "      <td>8.51</td>\n",
       "      <td>-1.18</td>\n",
       "      <td>1.34</td>\n",
       "      <td>1.568</td>\n",
       "      <td>K5/M0III</td>\n",
       "    </tr>\n",
       "  </tbody>\n",
       "</table>\n",
       "<p>96707 rows × 5 columns</p>\n",
       "</div>"
      ],
      "text/plain": [
       "       Vmag    Plx  e_Plx    B-V    SpType\n",
       "0      9.10   3.54   1.39  0.482        F5\n",
       "1      9.27  21.90   3.10  0.999       K3V\n",
       "2      6.61   2.81   0.63 -0.019        B9\n",
       "3      8.06   7.75   0.97  0.370       F0V\n",
       "4      8.55   2.87   1.11  0.902     G8III\n",
       "...     ...    ...    ...    ...       ...\n",
       "96702  7.92   3.93   1.24  0.133     Am...\n",
       "96703  8.72   3.07   0.87  0.097        B3\n",
       "96704  8.08   1.07   0.68  1.094        G5\n",
       "96705  6.98   2.97   0.76 -0.143     B1.5V\n",
       "96706  8.51  -1.18   1.34  1.568  K5/M0III\n",
       "\n",
       "[96707 rows x 5 columns]"
      ]
     },
     "execution_count": 16,
     "metadata": {},
     "output_type": "execute_result"
    }
   ],
   "source": [
    "#Dropping rows that `Plx` = 0\n",
    "df = df[df.Plx != 0]\n",
    "\n",
    "#Reindex the dataframe\n",
    "df = df.reset_index(drop=True)\n",
    "\n",
    "df"
   ]
  },
  {
   "cell_type": "markdown",
   "metadata": {},
   "source": [
    "Looks like we successfully dropped all the rows that `Plx` = 0."
   ]
  },
  {
   "cell_type": "code",
   "execution_count": 17,
   "metadata": {},
   "outputs": [
    {
     "data": {
      "text/html": [
       "<div>\n",
       "<style scoped>\n",
       "    .dataframe tbody tr th:only-of-type {\n",
       "        vertical-align: middle;\n",
       "    }\n",
       "\n",
       "    .dataframe tbody tr th {\n",
       "        vertical-align: top;\n",
       "    }\n",
       "\n",
       "    .dataframe thead th {\n",
       "        text-align: right;\n",
       "    }\n",
       "</style>\n",
       "<table border=\"1\" class=\"dataframe\">\n",
       "  <thead>\n",
       "    <tr style=\"text-align: right;\">\n",
       "      <th></th>\n",
       "      <th>Vmag</th>\n",
       "      <th>Plx</th>\n",
       "      <th>e_Plx</th>\n",
       "      <th>B-V</th>\n",
       "      <th>SpType</th>\n",
       "      <th>Amag</th>\n",
       "    </tr>\n",
       "  </thead>\n",
       "  <tbody>\n",
       "    <tr>\n",
       "      <th>0</th>\n",
       "      <td>9.10</td>\n",
       "      <td>3.54</td>\n",
       "      <td>1.39</td>\n",
       "      <td>0.482</td>\n",
       "      <td>F5</td>\n",
       "      <td>16.845016</td>\n",
       "    </tr>\n",
       "    <tr>\n",
       "      <th>1</th>\n",
       "      <td>9.27</td>\n",
       "      <td>21.90</td>\n",
       "      <td>3.10</td>\n",
       "      <td>0.999</td>\n",
       "      <td>K3V</td>\n",
       "      <td>20.972221</td>\n",
       "    </tr>\n",
       "    <tr>\n",
       "      <th>2</th>\n",
       "      <td>6.61</td>\n",
       "      <td>2.81</td>\n",
       "      <td>0.63</td>\n",
       "      <td>-0.019</td>\n",
       "      <td>B9</td>\n",
       "      <td>13.853531</td>\n",
       "    </tr>\n",
       "    <tr>\n",
       "      <th>3</th>\n",
       "      <td>8.06</td>\n",
       "      <td>7.75</td>\n",
       "      <td>0.97</td>\n",
       "      <td>0.370</td>\n",
       "      <td>F0V</td>\n",
       "      <td>17.506508</td>\n",
       "    </tr>\n",
       "    <tr>\n",
       "      <th>4</th>\n",
       "      <td>8.55</td>\n",
       "      <td>2.87</td>\n",
       "      <td>1.11</td>\n",
       "      <td>0.902</td>\n",
       "      <td>G8III</td>\n",
       "      <td>15.839410</td>\n",
       "    </tr>\n",
       "    <tr>\n",
       "      <th>...</th>\n",
       "      <td>...</td>\n",
       "      <td>...</td>\n",
       "      <td>...</td>\n",
       "      <td>...</td>\n",
       "      <td>...</td>\n",
       "      <td>...</td>\n",
       "    </tr>\n",
       "    <tr>\n",
       "      <th>96702</th>\n",
       "      <td>7.92</td>\n",
       "      <td>3.93</td>\n",
       "      <td>1.24</td>\n",
       "      <td>0.133</td>\n",
       "      <td>Am...</td>\n",
       "      <td>15.891963</td>\n",
       "    </tr>\n",
       "    <tr>\n",
       "      <th>96703</th>\n",
       "      <td>8.72</td>\n",
       "      <td>3.07</td>\n",
       "      <td>0.87</td>\n",
       "      <td>0.097</td>\n",
       "      <td>B3</td>\n",
       "      <td>16.155693</td>\n",
       "    </tr>\n",
       "    <tr>\n",
       "      <th>96704</th>\n",
       "      <td>8.08</td>\n",
       "      <td>1.07</td>\n",
       "      <td>0.68</td>\n",
       "      <td>1.094</td>\n",
       "      <td>G5</td>\n",
       "      <td>13.226919</td>\n",
       "    </tr>\n",
       "    <tr>\n",
       "      <th>96705</th>\n",
       "      <td>6.98</td>\n",
       "      <td>2.97</td>\n",
       "      <td>0.76</td>\n",
       "      <td>-0.143</td>\n",
       "      <td>B1.5V</td>\n",
       "      <td>14.343782</td>\n",
       "    </tr>\n",
       "    <tr>\n",
       "      <th>96706</th>\n",
       "      <td>8.51</td>\n",
       "      <td>-1.18</td>\n",
       "      <td>1.34</td>\n",
       "      <td>1.568</td>\n",
       "      <td>K5/M0III</td>\n",
       "      <td>13.869411</td>\n",
       "    </tr>\n",
       "  </tbody>\n",
       "</table>\n",
       "<p>96707 rows × 6 columns</p>\n",
       "</div>"
      ],
      "text/plain": [
       "       Vmag    Plx  e_Plx    B-V    SpType       Amag\n",
       "0      9.10   3.54   1.39  0.482        F5  16.845016\n",
       "1      9.27  21.90   3.10  0.999       K3V  20.972221\n",
       "2      6.61   2.81   0.63 -0.019        B9  13.853531\n",
       "3      8.06   7.75   0.97  0.370       F0V  17.506508\n",
       "4      8.55   2.87   1.11  0.902     G8III  15.839410\n",
       "...     ...    ...    ...    ...       ...        ...\n",
       "96702  7.92   3.93   1.24  0.133     Am...  15.891963\n",
       "96703  8.72   3.07   0.87  0.097        B3  16.155693\n",
       "96704  8.08   1.07   0.68  1.094        G5  13.226919\n",
       "96705  6.98   2.97   0.76 -0.143     B1.5V  14.343782\n",
       "96706  8.51  -1.18   1.34  1.568  K5/M0III  13.869411\n",
       "\n",
       "[96707 rows x 6 columns]"
      ]
     },
     "execution_count": 17,
     "metadata": {},
     "output_type": "execute_result"
    }
   ],
   "source": [
    "#Implement the equation\n",
    "df[\"Amag\"] = df[\"Vmag\"] + 5* (np.log10(abs(df[\"Plx\"]))+1)\n",
    "\n",
    "df"
   ]
  },
  {
   "cell_type": "code",
   "execution_count": 18,
   "metadata": {},
   "outputs": [
    {
     "name": "stdout",
     "output_type": "stream",
     "text": [
      "<class 'pandas.core.frame.DataFrame'>\n",
      "RangeIndex: 96707 entries, 0 to 96706\n",
      "Data columns (total 6 columns):\n",
      " #   Column  Non-Null Count  Dtype  \n",
      "---  ------  --------------  -----  \n",
      " 0   Vmag    96707 non-null  float32\n",
      " 1   Plx     96707 non-null  float32\n",
      " 2   e_Plx   96707 non-null  float32\n",
      " 3   B-V     96707 non-null  float32\n",
      " 4   SpType  96707 non-null  object \n",
      " 5   Amag    96707 non-null  float32\n",
      "dtypes: float32(5), object(1)\n",
      "memory usage: 2.6+ MB\n"
     ]
    }
   ],
   "source": [
    "df.info()"
   ]
  },
  {
   "cell_type": "code",
   "execution_count": 19,
   "metadata": {},
   "outputs": [
    {
     "data": {
      "text/html": [
       "<div>\n",
       "<style scoped>\n",
       "    .dataframe tbody tr th:only-of-type {\n",
       "        vertical-align: middle;\n",
       "    }\n",
       "\n",
       "    .dataframe tbody tr th {\n",
       "        vertical-align: top;\n",
       "    }\n",
       "\n",
       "    .dataframe thead th {\n",
       "        text-align: right;\n",
       "    }\n",
       "</style>\n",
       "<table border=\"1\" class=\"dataframe\">\n",
       "  <thead>\n",
       "    <tr style=\"text-align: right;\">\n",
       "      <th></th>\n",
       "      <th>Vmag</th>\n",
       "      <th>Plx</th>\n",
       "      <th>e_Plx</th>\n",
       "      <th>B-V</th>\n",
       "      <th>Amag</th>\n",
       "    </tr>\n",
       "  </thead>\n",
       "  <tbody>\n",
       "    <tr>\n",
       "      <th>count</th>\n",
       "      <td>96707.000000</td>\n",
       "      <td>96707.000000</td>\n",
       "      <td>96707.000000</td>\n",
       "      <td>96707.000000</td>\n",
       "      <td>96707.000000</td>\n",
       "    </tr>\n",
       "    <tr>\n",
       "      <th>mean</th>\n",
       "      <td>8.291762</td>\n",
       "      <td>7.107813</td>\n",
       "      <td>1.264152</td>\n",
       "      <td>0.700663</td>\n",
       "      <td>16.480989</td>\n",
       "    </tr>\n",
       "    <tr>\n",
       "      <th>std</th>\n",
       "      <td>1.247954</td>\n",
       "      <td>11.146737</td>\n",
       "      <td>1.156387</td>\n",
       "      <td>0.490001</td>\n",
       "      <td>2.451171</td>\n",
       "    </tr>\n",
       "    <tr>\n",
       "      <th>min</th>\n",
       "      <td>-1.440000</td>\n",
       "      <td>-35.099998</td>\n",
       "      <td>0.380000</td>\n",
       "      <td>-0.400000</td>\n",
       "      <td>-0.350000</td>\n",
       "    </tr>\n",
       "    <tr>\n",
       "      <th>25%</th>\n",
       "      <td>7.610000</td>\n",
       "      <td>2.520000</td>\n",
       "      <td>0.870000</td>\n",
       "      <td>0.342000</td>\n",
       "      <td>15.157670</td>\n",
       "    </tr>\n",
       "    <tr>\n",
       "      <th>50%</th>\n",
       "      <td>8.400000</td>\n",
       "      <td>4.600000</td>\n",
       "      <td>1.080000</td>\n",
       "      <td>0.605000</td>\n",
       "      <td>16.447716</td>\n",
       "    </tr>\n",
       "    <tr>\n",
       "      <th>75%</th>\n",
       "      <td>9.070000</td>\n",
       "      <td>8.270000</td>\n",
       "      <td>1.360000</td>\n",
       "      <td>1.072000</td>\n",
       "      <td>18.016191</td>\n",
       "    </tr>\n",
       "    <tr>\n",
       "      <th>max</th>\n",
       "      <td>13.610000</td>\n",
       "      <td>772.330017</td>\n",
       "      <td>69.070000</td>\n",
       "      <td>5.460000</td>\n",
       "      <td>30.449015</td>\n",
       "    </tr>\n",
       "  </tbody>\n",
       "</table>\n",
       "</div>"
      ],
      "text/plain": [
       "               Vmag           Plx         e_Plx           B-V          Amag\n",
       "count  96707.000000  96707.000000  96707.000000  96707.000000  96707.000000\n",
       "mean       8.291762      7.107813      1.264152      0.700663     16.480989\n",
       "std        1.247954     11.146737      1.156387      0.490001      2.451171\n",
       "min       -1.440000    -35.099998      0.380000     -0.400000     -0.350000\n",
       "25%        7.610000      2.520000      0.870000      0.342000     15.157670\n",
       "50%        8.400000      4.600000      1.080000      0.605000     16.447716\n",
       "75%        9.070000      8.270000      1.360000      1.072000     18.016191\n",
       "max       13.610000    772.330017     69.070000      5.460000     30.449015"
      ]
     },
     "execution_count": 19,
     "metadata": {},
     "output_type": "execute_result"
    }
   ],
   "source": [
    "df.describe()"
   ]
  },
  {
   "cell_type": "markdown",
   "metadata": {},
   "source": [
    "# Column Mapping\n",
    "\n",
    "In this session, we will create a new column `TargetClass` to store whether it is a Giant or Dwarf."
   ]
  },
  {
   "cell_type": "markdown",
   "metadata": {},
   "source": [
    "## Convert SpType into Giants and Dwarf\n",
    "\n",
    "* Roman Numerals >IV are giants. Otherwise are dwarfs\n",
    "\n"
   ]
  },
  {
   "cell_type": "code",
   "execution_count": 20,
   "metadata": {},
   "outputs": [
    {
     "data": {
      "text/plain": [
       "0              F5\n",
       "1             K3V\n",
       "2              B9\n",
       "3             F0V\n",
       "4           G8III\n",
       "           ...   \n",
       "96702       Am...\n",
       "96703          B3\n",
       "96704          G5\n",
       "96705       B1.5V\n",
       "96706    K5/M0III\n",
       "Name: SpType, Length: 96707, dtype: object"
      ]
     },
     "execution_count": 20,
     "metadata": {},
     "output_type": "execute_result"
    }
   ],
   "source": [
    "# Take a look at our SpType column\n",
    "df['SpType']"
   ]
  },
  {
   "cell_type": "code",
   "execution_count": 21,
   "metadata": {},
   "outputs": [
    {
     "data": {
      "text/html": [
       "<div>\n",
       "<style scoped>\n",
       "    .dataframe tbody tr th:only-of-type {\n",
       "        vertical-align: middle;\n",
       "    }\n",
       "\n",
       "    .dataframe tbody tr th {\n",
       "        vertical-align: top;\n",
       "    }\n",
       "\n",
       "    .dataframe thead th {\n",
       "        text-align: right;\n",
       "    }\n",
       "</style>\n",
       "<table border=\"1\" class=\"dataframe\">\n",
       "  <thead>\n",
       "    <tr style=\"text-align: right;\">\n",
       "      <th></th>\n",
       "      <th>Vmag</th>\n",
       "      <th>Plx</th>\n",
       "      <th>e_Plx</th>\n",
       "      <th>B-V</th>\n",
       "      <th>SpType</th>\n",
       "      <th>Amag</th>\n",
       "      <th>TargetClass</th>\n",
       "    </tr>\n",
       "  </thead>\n",
       "  <tbody>\n",
       "    <tr>\n",
       "      <th>0</th>\n",
       "      <td>9.10</td>\n",
       "      <td>3.54</td>\n",
       "      <td>1.39</td>\n",
       "      <td>0.482</td>\n",
       "      <td>F5</td>\n",
       "      <td>16.845016</td>\n",
       "      <td>F5</td>\n",
       "    </tr>\n",
       "    <tr>\n",
       "      <th>1</th>\n",
       "      <td>9.27</td>\n",
       "      <td>21.90</td>\n",
       "      <td>3.10</td>\n",
       "      <td>0.999</td>\n",
       "      <td>K3V</td>\n",
       "      <td>20.972221</td>\n",
       "      <td>K3V</td>\n",
       "    </tr>\n",
       "    <tr>\n",
       "      <th>2</th>\n",
       "      <td>6.61</td>\n",
       "      <td>2.81</td>\n",
       "      <td>0.63</td>\n",
       "      <td>-0.019</td>\n",
       "      <td>B9</td>\n",
       "      <td>13.853531</td>\n",
       "      <td>B9</td>\n",
       "    </tr>\n",
       "    <tr>\n",
       "      <th>3</th>\n",
       "      <td>8.06</td>\n",
       "      <td>7.75</td>\n",
       "      <td>0.97</td>\n",
       "      <td>0.370</td>\n",
       "      <td>F0V</td>\n",
       "      <td>17.506508</td>\n",
       "      <td>F0V</td>\n",
       "    </tr>\n",
       "    <tr>\n",
       "      <th>4</th>\n",
       "      <td>8.55</td>\n",
       "      <td>2.87</td>\n",
       "      <td>1.11</td>\n",
       "      <td>0.902</td>\n",
       "      <td>G8III</td>\n",
       "      <td>15.839410</td>\n",
       "      <td>G8III</td>\n",
       "    </tr>\n",
       "    <tr>\n",
       "      <th>...</th>\n",
       "      <td>...</td>\n",
       "      <td>...</td>\n",
       "      <td>...</td>\n",
       "      <td>...</td>\n",
       "      <td>...</td>\n",
       "      <td>...</td>\n",
       "      <td>...</td>\n",
       "    </tr>\n",
       "    <tr>\n",
       "      <th>96702</th>\n",
       "      <td>7.92</td>\n",
       "      <td>3.93</td>\n",
       "      <td>1.24</td>\n",
       "      <td>0.133</td>\n",
       "      <td>Am...</td>\n",
       "      <td>15.891963</td>\n",
       "      <td>Am...</td>\n",
       "    </tr>\n",
       "    <tr>\n",
       "      <th>96703</th>\n",
       "      <td>8.72</td>\n",
       "      <td>3.07</td>\n",
       "      <td>0.87</td>\n",
       "      <td>0.097</td>\n",
       "      <td>B3</td>\n",
       "      <td>16.155693</td>\n",
       "      <td>B3</td>\n",
       "    </tr>\n",
       "    <tr>\n",
       "      <th>96704</th>\n",
       "      <td>8.08</td>\n",
       "      <td>1.07</td>\n",
       "      <td>0.68</td>\n",
       "      <td>1.094</td>\n",
       "      <td>G5</td>\n",
       "      <td>13.226919</td>\n",
       "      <td>G5</td>\n",
       "    </tr>\n",
       "    <tr>\n",
       "      <th>96705</th>\n",
       "      <td>6.98</td>\n",
       "      <td>2.97</td>\n",
       "      <td>0.76</td>\n",
       "      <td>-0.143</td>\n",
       "      <td>B1.5V</td>\n",
       "      <td>14.343782</td>\n",
       "      <td>B1.5V</td>\n",
       "    </tr>\n",
       "    <tr>\n",
       "      <th>96706</th>\n",
       "      <td>8.51</td>\n",
       "      <td>-1.18</td>\n",
       "      <td>1.34</td>\n",
       "      <td>1.568</td>\n",
       "      <td>K5/M0III</td>\n",
       "      <td>13.869411</td>\n",
       "      <td>K5/M0III</td>\n",
       "    </tr>\n",
       "  </tbody>\n",
       "</table>\n",
       "<p>96707 rows × 7 columns</p>\n",
       "</div>"
      ],
      "text/plain": [
       "       Vmag    Plx  e_Plx    B-V    SpType       Amag TargetClass\n",
       "0      9.10   3.54   1.39  0.482        F5  16.845016          F5\n",
       "1      9.27  21.90   3.10  0.999       K3V  20.972221         K3V\n",
       "2      6.61   2.81   0.63 -0.019        B9  13.853531          B9\n",
       "3      8.06   7.75   0.97  0.370       F0V  17.506508         F0V\n",
       "4      8.55   2.87   1.11  0.902     G8III  15.839410       G8III\n",
       "...     ...    ...    ...    ...       ...        ...         ...\n",
       "96702  7.92   3.93   1.24  0.133     Am...  15.891963       Am...\n",
       "96703  8.72   3.07   0.87  0.097        B3  16.155693          B3\n",
       "96704  8.08   1.07   0.68  1.094        G5  13.226919          G5\n",
       "96705  6.98   2.97   0.76 -0.143     B1.5V  14.343782       B1.5V\n",
       "96706  8.51  -1.18   1.34  1.568  K5/M0III  13.869411    K5/M0III\n",
       "\n",
       "[96707 rows x 7 columns]"
      ]
     },
     "execution_count": 21,
     "metadata": {},
     "output_type": "execute_result"
    }
   ],
   "source": [
    "#Copy the SpType column to a new column called TargetClass\n",
    "df['TargetClass'] = df['SpType']\n",
    "\n",
    "df"
   ]
  },
  {
   "cell_type": "code",
   "execution_count": 22,
   "metadata": {},
   "outputs": [
    {
     "data": {
      "text/plain": [
       "0        9\n",
       "1        1\n",
       "2        9\n",
       "3        1\n",
       "4        0\n",
       "        ..\n",
       "96702    9\n",
       "96703    9\n",
       "96704    9\n",
       "96705    1\n",
       "96706    0\n",
       "Name: TargetClass, Length: 96707, dtype: object"
      ]
     },
     "execution_count": 22,
     "metadata": {},
     "output_type": "execute_result"
    }
   ],
   "source": [
    "#The intuitive approach (Could take a long time if you have a huge dataset)\n",
    "for i in range(len(df['TargetClass'])):\n",
    "    if \"V\" in df.loc[i,'TargetClass']: \n",
    "        if \"VII\" in df.loc[i,'TargetClass']: \n",
    "            df.loc[i,'TargetClass'] = 0 # VII is Dwarf\n",
    "        else:\n",
    "            df.loc[i,'TargetClass'] = 1 # IV, V, VI are Giants\n",
    "    elif \"I\" in df.loc[i,'TargetClass']: \n",
    "        df.loc[i,'TargetClass'] = 0 # I, II, III are Dwarfs\n",
    "    else: \n",
    "        df.loc[i,'TargetClass'] = 9 # None\n",
    "        \n",
    "df['TargetClass']"
   ]
  },
  {
   "cell_type": "markdown",
   "metadata": {},
   "source": [
    "When we use the data to analysis, the label is better in numeric values otherwise we might need to map them."
   ]
  },
  {
   "cell_type": "code",
   "execution_count": 23,
   "metadata": {},
   "outputs": [
    {
     "data": {
      "text/html": [
       "<div>\n",
       "<style scoped>\n",
       "    .dataframe tbody tr th:only-of-type {\n",
       "        vertical-align: middle;\n",
       "    }\n",
       "\n",
       "    .dataframe tbody tr th {\n",
       "        vertical-align: top;\n",
       "    }\n",
       "\n",
       "    .dataframe thead th {\n",
       "        text-align: right;\n",
       "    }\n",
       "</style>\n",
       "<table border=\"1\" class=\"dataframe\">\n",
       "  <thead>\n",
       "    <tr style=\"text-align: right;\">\n",
       "      <th></th>\n",
       "      <th>Vmag</th>\n",
       "      <th>Plx</th>\n",
       "      <th>e_Plx</th>\n",
       "      <th>B-V</th>\n",
       "      <th>SpType</th>\n",
       "      <th>Amag</th>\n",
       "      <th>TargetClass</th>\n",
       "    </tr>\n",
       "  </thead>\n",
       "  <tbody>\n",
       "    <tr>\n",
       "      <th>count</th>\n",
       "      <td>96707.000000</td>\n",
       "      <td>96707.000000</td>\n",
       "      <td>96707.000000</td>\n",
       "      <td>96707.000000</td>\n",
       "      <td>96707</td>\n",
       "      <td>96707.000000</td>\n",
       "      <td>96707.0</td>\n",
       "    </tr>\n",
       "    <tr>\n",
       "      <th>unique</th>\n",
       "      <td>NaN</td>\n",
       "      <td>NaN</td>\n",
       "      <td>NaN</td>\n",
       "      <td>NaN</td>\n",
       "      <td>3703</td>\n",
       "      <td>NaN</td>\n",
       "      <td>3.0</td>\n",
       "    </tr>\n",
       "    <tr>\n",
       "      <th>top</th>\n",
       "      <td>NaN</td>\n",
       "      <td>NaN</td>\n",
       "      <td>NaN</td>\n",
       "      <td>NaN</td>\n",
       "      <td>K0</td>\n",
       "      <td>NaN</td>\n",
       "      <td>9.0</td>\n",
       "    </tr>\n",
       "    <tr>\n",
       "      <th>freq</th>\n",
       "      <td>NaN</td>\n",
       "      <td>NaN</td>\n",
       "      <td>NaN</td>\n",
       "      <td>NaN</td>\n",
       "      <td>7321</td>\n",
       "      <td>NaN</td>\n",
       "      <td>49210.0</td>\n",
       "    </tr>\n",
       "    <tr>\n",
       "      <th>mean</th>\n",
       "      <td>8.291762</td>\n",
       "      <td>7.107813</td>\n",
       "      <td>1.264152</td>\n",
       "      <td>0.700663</td>\n",
       "      <td>NaN</td>\n",
       "      <td>16.480989</td>\n",
       "      <td>NaN</td>\n",
       "    </tr>\n",
       "    <tr>\n",
       "      <th>std</th>\n",
       "      <td>1.247954</td>\n",
       "      <td>11.146737</td>\n",
       "      <td>1.156387</td>\n",
       "      <td>0.490001</td>\n",
       "      <td>NaN</td>\n",
       "      <td>2.451171</td>\n",
       "      <td>NaN</td>\n",
       "    </tr>\n",
       "    <tr>\n",
       "      <th>min</th>\n",
       "      <td>-1.440000</td>\n",
       "      <td>-35.099998</td>\n",
       "      <td>0.380000</td>\n",
       "      <td>-0.400000</td>\n",
       "      <td>NaN</td>\n",
       "      <td>-0.350000</td>\n",
       "      <td>NaN</td>\n",
       "    </tr>\n",
       "    <tr>\n",
       "      <th>25%</th>\n",
       "      <td>7.610000</td>\n",
       "      <td>2.520000</td>\n",
       "      <td>0.870000</td>\n",
       "      <td>0.342000</td>\n",
       "      <td>NaN</td>\n",
       "      <td>15.157670</td>\n",
       "      <td>NaN</td>\n",
       "    </tr>\n",
       "    <tr>\n",
       "      <th>50%</th>\n",
       "      <td>8.400000</td>\n",
       "      <td>4.600000</td>\n",
       "      <td>1.080000</td>\n",
       "      <td>0.605000</td>\n",
       "      <td>NaN</td>\n",
       "      <td>16.447716</td>\n",
       "      <td>NaN</td>\n",
       "    </tr>\n",
       "    <tr>\n",
       "      <th>75%</th>\n",
       "      <td>9.070000</td>\n",
       "      <td>8.270000</td>\n",
       "      <td>1.360000</td>\n",
       "      <td>1.072000</td>\n",
       "      <td>NaN</td>\n",
       "      <td>18.016191</td>\n",
       "      <td>NaN</td>\n",
       "    </tr>\n",
       "    <tr>\n",
       "      <th>max</th>\n",
       "      <td>13.610000</td>\n",
       "      <td>772.330017</td>\n",
       "      <td>69.070000</td>\n",
       "      <td>5.460000</td>\n",
       "      <td>NaN</td>\n",
       "      <td>30.449015</td>\n",
       "      <td>NaN</td>\n",
       "    </tr>\n",
       "  </tbody>\n",
       "</table>\n",
       "</div>"
      ],
      "text/plain": [
       "                Vmag           Plx         e_Plx           B-V SpType  \\\n",
       "count   96707.000000  96707.000000  96707.000000  96707.000000  96707   \n",
       "unique           NaN           NaN           NaN           NaN   3703   \n",
       "top              NaN           NaN           NaN           NaN     K0   \n",
       "freq             NaN           NaN           NaN           NaN   7321   \n",
       "mean        8.291762      7.107813      1.264152      0.700663    NaN   \n",
       "std         1.247954     11.146737      1.156387      0.490001    NaN   \n",
       "min        -1.440000    -35.099998      0.380000     -0.400000    NaN   \n",
       "25%         7.610000      2.520000      0.870000      0.342000    NaN   \n",
       "50%         8.400000      4.600000      1.080000      0.605000    NaN   \n",
       "75%         9.070000      8.270000      1.360000      1.072000    NaN   \n",
       "max        13.610000    772.330017     69.070000      5.460000    NaN   \n",
       "\n",
       "                Amag  TargetClass  \n",
       "count   96707.000000      96707.0  \n",
       "unique           NaN          3.0  \n",
       "top              NaN          9.0  \n",
       "freq             NaN      49210.0  \n",
       "mean       16.480989          NaN  \n",
       "std         2.451171          NaN  \n",
       "min        -0.350000          NaN  \n",
       "25%        15.157670          NaN  \n",
       "50%        16.447716          NaN  \n",
       "75%        18.016191          NaN  \n",
       "max        30.449015          NaN  "
      ]
     },
     "execution_count": 23,
     "metadata": {},
     "output_type": "execute_result"
    }
   ],
   "source": [
    "df.describe(include='all')"
   ]
  },
  {
   "cell_type": "markdown",
   "metadata": {},
   "source": [
    "# Balancing Data\n",
    "\n",
    "Balanced Dataset is a dataset where each output class (or target class) is represented by the same number of input samples."
   ]
  },
  {
   "cell_type": "code",
   "execution_count": 24,
   "metadata": {},
   "outputs": [
    {
     "data": {
      "text/plain": [
       "9    49210\n",
       "1    27721\n",
       "0    19776\n",
       "Name: TargetClass, dtype: int64"
      ]
     },
     "execution_count": 24,
     "metadata": {},
     "output_type": "execute_result"
    }
   ],
   "source": [
    "df['TargetClass'].value_counts()"
   ]
  },
  {
   "cell_type": "code",
   "execution_count": 25,
   "metadata": {},
   "outputs": [
    {
     "name": "stderr",
     "output_type": "stream",
     "text": [
      "D:\\Astro-Pro\\lib\\site-packages\\seaborn\\_decorators.py:36: FutureWarning: Pass the following variable as a keyword arg: x. From version 0.12, the only valid positional argument will be `data`, and passing other arguments without an explicit keyword will result in an error or misinterpretation.\n",
      "  warnings.warn(\n"
     ]
    },
    {
     "data": {
      "text/plain": [
       "<AxesSubplot:xlabel='TargetClass', ylabel='count'>"
      ]
     },
     "execution_count": 25,
     "metadata": {},
     "output_type": "execute_result"
    },
    {
     "data": {
      "image/png": "[encoded data removed]",
      "text/plain": [
       "<Figure size 432x288 with 1 Axes>"
      ]
     },
     "metadata": {
      "needs_background": "light"
     },
     "output_type": "display_data"
    }
   ],
   "source": [
    "import matplotlib.pyplot as plt # plot graphs\n",
    "import seaborn as sns # plot graphs\n",
    "\n",
    "sns.countplot(df['TargetClass'])"
   ]
  },
  {
   "cell_type": "markdown",
   "metadata": {},
   "source": [
    "We only need the Dwarfs and Giants Record."
   ]
  },
  {
   "cell_type": "code",
   "execution_count": 26,
   "metadata": {},
   "outputs": [
    {
     "data": {
      "text/html": [
       "<div>\n",
       "<style scoped>\n",
       "    .dataframe tbody tr th:only-of-type {\n",
       "        vertical-align: middle;\n",
       "    }\n",
       "\n",
       "    .dataframe tbody tr th {\n",
       "        vertical-align: top;\n",
       "    }\n",
       "\n",
       "    .dataframe thead th {\n",
       "        text-align: right;\n",
       "    }\n",
       "</style>\n",
       "<table border=\"1\" class=\"dataframe\">\n",
       "  <thead>\n",
       "    <tr style=\"text-align: right;\">\n",
       "      <th></th>\n",
       "      <th>Vmag</th>\n",
       "      <th>Plx</th>\n",
       "      <th>e_Plx</th>\n",
       "      <th>B-V</th>\n",
       "      <th>SpType</th>\n",
       "      <th>Amag</th>\n",
       "      <th>TargetClass</th>\n",
       "    </tr>\n",
       "  </thead>\n",
       "  <tbody>\n",
       "    <tr>\n",
       "      <th>0</th>\n",
       "      <td>9.27</td>\n",
       "      <td>21.900000</td>\n",
       "      <td>3.10</td>\n",
       "      <td>0.999</td>\n",
       "      <td>K3V</td>\n",
       "      <td>20.972221</td>\n",
       "      <td>1</td>\n",
       "    </tr>\n",
       "    <tr>\n",
       "      <th>1</th>\n",
       "      <td>8.06</td>\n",
       "      <td>7.750000</td>\n",
       "      <td>0.97</td>\n",
       "      <td>0.370</td>\n",
       "      <td>F0V</td>\n",
       "      <td>17.506508</td>\n",
       "      <td>1</td>\n",
       "    </tr>\n",
       "    <tr>\n",
       "      <th>2</th>\n",
       "      <td>8.55</td>\n",
       "      <td>2.870000</td>\n",
       "      <td>1.11</td>\n",
       "      <td>0.902</td>\n",
       "      <td>G8III</td>\n",
       "      <td>15.839410</td>\n",
       "      <td>0</td>\n",
       "    </tr>\n",
       "    <tr>\n",
       "      <th>3</th>\n",
       "      <td>12.31</td>\n",
       "      <td>18.799999</td>\n",
       "      <td>4.99</td>\n",
       "      <td>1.336</td>\n",
       "      <td>M0V:</td>\n",
       "      <td>23.680790</td>\n",
       "      <td>1</td>\n",
       "    </tr>\n",
       "    <tr>\n",
       "      <th>4</th>\n",
       "      <td>8.59</td>\n",
       "      <td>10.760000</td>\n",
       "      <td>1.10</td>\n",
       "      <td>0.489</td>\n",
       "      <td>F6V</td>\n",
       "      <td>18.749062</td>\n",
       "      <td>1</td>\n",
       "    </tr>\n",
       "    <tr>\n",
       "      <th>...</th>\n",
       "      <td>...</td>\n",
       "      <td>...</td>\n",
       "      <td>...</td>\n",
       "      <td>...</td>\n",
       "      <td>...</td>\n",
       "      <td>...</td>\n",
       "      <td>...</td>\n",
       "    </tr>\n",
       "    <tr>\n",
       "      <th>47492</th>\n",
       "      <td>8.79</td>\n",
       "      <td>0.890000</td>\n",
       "      <td>1.28</td>\n",
       "      <td>1.194</td>\n",
       "      <td>K1III</td>\n",
       "      <td>13.536950</td>\n",
       "      <td>0</td>\n",
       "    </tr>\n",
       "    <tr>\n",
       "      <th>47493</th>\n",
       "      <td>8.00</td>\n",
       "      <td>0.410000</td>\n",
       "      <td>0.92</td>\n",
       "      <td>0.854</td>\n",
       "      <td>F6Iab</td>\n",
       "      <td>11.063919</td>\n",
       "      <td>0</td>\n",
       "    </tr>\n",
       "    <tr>\n",
       "      <th>47494</th>\n",
       "      <td>7.69</td>\n",
       "      <td>6.600000</td>\n",
       "      <td>0.92</td>\n",
       "      <td>1.110</td>\n",
       "      <td>K2III</td>\n",
       "      <td>16.787720</td>\n",
       "      <td>0</td>\n",
       "    </tr>\n",
       "    <tr>\n",
       "      <th>47495</th>\n",
       "      <td>6.98</td>\n",
       "      <td>2.970000</td>\n",
       "      <td>0.76</td>\n",
       "      <td>-0.143</td>\n",
       "      <td>B1.5V</td>\n",
       "      <td>14.343782</td>\n",
       "      <td>1</td>\n",
       "    </tr>\n",
       "    <tr>\n",
       "      <th>47496</th>\n",
       "      <td>8.51</td>\n",
       "      <td>-1.180000</td>\n",
       "      <td>1.34</td>\n",
       "      <td>1.568</td>\n",
       "      <td>K5/M0III</td>\n",
       "      <td>13.869411</td>\n",
       "      <td>0</td>\n",
       "    </tr>\n",
       "  </tbody>\n",
       "</table>\n",
       "<p>47497 rows × 7 columns</p>\n",
       "</div>"
      ],
      "text/plain": [
       "        Vmag        Plx  e_Plx    B-V    SpType       Amag TargetClass\n",
       "0       9.27  21.900000   3.10  0.999       K3V  20.972221           1\n",
       "1       8.06   7.750000   0.97  0.370       F0V  17.506508           1\n",
       "2       8.55   2.870000   1.11  0.902     G8III  15.839410           0\n",
       "3      12.31  18.799999   4.99  1.336      M0V:  23.680790           1\n",
       "4       8.59  10.760000   1.10  0.489       F6V  18.749062           1\n",
       "...      ...        ...    ...    ...       ...        ...         ...\n",
       "47492   8.79   0.890000   1.28  1.194     K1III  13.536950           0\n",
       "47493   8.00   0.410000   0.92  0.854     F6Iab  11.063919           0\n",
       "47494   7.69   6.600000   0.92  1.110     K2III  16.787720           0\n",
       "47495   6.98   2.970000   0.76 -0.143     B1.5V  14.343782           1\n",
       "47496   8.51  -1.180000   1.34  1.568  K5/M0III  13.869411           0\n",
       "\n",
       "[47497 rows x 7 columns]"
      ]
     },
     "execution_count": 26,
     "metadata": {},
     "output_type": "execute_result"
    }
   ],
   "source": [
    "#Dropping rows that `TargetClass` = 9\n",
    "df = df[df.TargetClass != 9] \n",
    "\n",
    "#Reindex the dataframe\n",
    "df = df.reset_index(drop=True)\n",
    "\n",
    "df"
   ]
  },
  {
   "cell_type": "markdown",
   "metadata": {},
   "source": [
    "Since we have so many records, we will just downsample the majority class."
   ]
  },
  {
   "cell_type": "code",
   "execution_count": 27,
   "metadata": {},
   "outputs": [],
   "source": [
    "# Separate the labels\n",
    "df_giants = df[df.TargetClass == 1]\n",
    "df_dwarfs = df[df.TargetClass == 0]"
   ]
  },
  {
   "cell_type": "code",
   "execution_count": 28,
   "metadata": {},
   "outputs": [
    {
     "name": "stdout",
     "output_type": "stream",
     "text": [
      "Giants(1): 27721\n",
      "Dwarfs(0): 19776\n"
     ]
    }
   ],
   "source": [
    "# Numbers of rows of Giants and Dwarfs\n",
    "num_of_giant = df_giants.shape[0]\n",
    "num_of_dwarf = df_dwarfs.shape[0]\n",
    "print(\"Giants(1):\",num_of_giant)\n",
    "print(\"Dwarfs(0):\",num_of_dwarf)"
   ]
  },
  {
   "cell_type": "markdown",
   "metadata": {},
   "source": [
    "To downsample the class, we can just use a loop to loop through the records, but there is a way better approach.\n",
    "\n",
    "Let's import `resample` from `sklearn`."
   ]
  },
  {
   "cell_type": "code",
   "execution_count": 29,
   "metadata": {},
   "outputs": [],
   "source": [
    "from sklearn.utils import resample"
   ]
  },
  {
   "cell_type": "code",
   "execution_count": 30,
   "metadata": {},
   "outputs": [],
   "source": [
    "# Downsample majority class\n",
    "df_giants_downsampled = resample(df_giants, \n",
    "                                 replace=False,    # sample without replacement\n",
    "                                 n_samples=num_of_dwarf,     # to match minority class\n",
    "                                 random_state=1) # reproducible results\n",
    " \n",
    "# Combine minority class with downsampled majority class\n",
    "df_downsampled = pd.concat([df_giants_downsampled, df_dwarfs])"
   ]
  },
  {
   "cell_type": "code",
   "execution_count": 31,
   "metadata": {},
   "outputs": [
    {
     "data": {
      "text/plain": [
       "1    19776\n",
       "0    19776\n",
       "Name: TargetClass, dtype: int64"
      ]
     },
     "execution_count": 31,
     "metadata": {},
     "output_type": "execute_result"
    }
   ],
   "source": [
    "df_downsampled['TargetClass'].value_counts()"
   ]
  },
  {
   "cell_type": "code",
   "execution_count": 32,
   "metadata": {},
   "outputs": [
    {
     "name": "stderr",
     "output_type": "stream",
     "text": [
      "D:\\Astro-Pro\\lib\\site-packages\\seaborn\\_decorators.py:36: FutureWarning: Pass the following variable as a keyword arg: x. From version 0.12, the only valid positional argument will be `data`, and passing other arguments without an explicit keyword will result in an error or misinterpretation.\n",
      "  warnings.warn(\n"
     ]
    },
    {
     "data": {
      "text/plain": [
       "<AxesSubplot:xlabel='TargetClass', ylabel='count'>"
      ]
     },
     "execution_count": 32,
     "metadata": {},
     "output_type": "execute_result"
    },
    {
     "data": {
      "image/png": "[encoded data removed]",
      "text/plain": [
       "<Figure size 432x288 with 1 Axes>"
      ]
     },
     "metadata": {
      "needs_background": "light"
     },
     "output_type": "display_data"
    }
   ],
   "source": [
    "sns.countplot(df_downsampled['TargetClass'])"
   ]
  },
  {
   "cell_type": "markdown",
   "metadata": {},
   "source": [
    " Last but not Least, we need to check our dataset to see whether there are still some problem."
   ]
  },
  {
   "cell_type": "code",
   "execution_count": 33,
   "metadata": {},
   "outputs": [
    {
     "data": {
      "text/html": [
       "<div>\n",
       "<style scoped>\n",
       "    .dataframe tbody tr th:only-of-type {\n",
       "        vertical-align: middle;\n",
       "    }\n",
       "\n",
       "    .dataframe tbody tr th {\n",
       "        vertical-align: top;\n",
       "    }\n",
       "\n",
       "    .dataframe thead th {\n",
       "        text-align: right;\n",
       "    }\n",
       "</style>\n",
       "<table border=\"1\" class=\"dataframe\">\n",
       "  <thead>\n",
       "    <tr style=\"text-align: right;\">\n",
       "      <th></th>\n",
       "      <th>Vmag</th>\n",
       "      <th>Plx</th>\n",
       "      <th>e_Plx</th>\n",
       "      <th>B-V</th>\n",
       "      <th>SpType</th>\n",
       "      <th>Amag</th>\n",
       "      <th>TargetClass</th>\n",
       "    </tr>\n",
       "  </thead>\n",
       "  <tbody>\n",
       "    <tr>\n",
       "      <th>count</th>\n",
       "      <td>39552.000000</td>\n",
       "      <td>39552.000000</td>\n",
       "      <td>39552.000000</td>\n",
       "      <td>39552.000000</td>\n",
       "      <td>39552</td>\n",
       "      <td>39552.000000</td>\n",
       "      <td>39552.0</td>\n",
       "    </tr>\n",
       "    <tr>\n",
       "      <th>unique</th>\n",
       "      <td>NaN</td>\n",
       "      <td>NaN</td>\n",
       "      <td>NaN</td>\n",
       "      <td>NaN</td>\n",
       "      <td>2576</td>\n",
       "      <td>NaN</td>\n",
       "      <td>2.0</td>\n",
       "    </tr>\n",
       "    <tr>\n",
       "      <th>top</th>\n",
       "      <td>NaN</td>\n",
       "      <td>NaN</td>\n",
       "      <td>NaN</td>\n",
       "      <td>NaN</td>\n",
       "      <td>K0III</td>\n",
       "      <td>NaN</td>\n",
       "      <td>1.0</td>\n",
       "    </tr>\n",
       "    <tr>\n",
       "      <th>freq</th>\n",
       "      <td>NaN</td>\n",
       "      <td>NaN</td>\n",
       "      <td>NaN</td>\n",
       "      <td>NaN</td>\n",
       "      <td>2841</td>\n",
       "      <td>NaN</td>\n",
       "      <td>19776.0</td>\n",
       "    </tr>\n",
       "    <tr>\n",
       "      <th>mean</th>\n",
       "      <td>7.921288</td>\n",
       "      <td>7.117379</td>\n",
       "      <td>1.109707</td>\n",
       "      <td>0.744332</td>\n",
       "      <td>NaN</td>\n",
       "      <td>16.050629</td>\n",
       "      <td>NaN</td>\n",
       "    </tr>\n",
       "    <tr>\n",
       "      <th>std</th>\n",
       "      <td>1.308845</td>\n",
       "      <td>12.446209</td>\n",
       "      <td>0.788118</td>\n",
       "      <td>0.513990</td>\n",
       "      <td>NaN</td>\n",
       "      <td>2.443930</td>\n",
       "      <td>NaN</td>\n",
       "    </tr>\n",
       "    <tr>\n",
       "      <th>min</th>\n",
       "      <td>-0.620000</td>\n",
       "      <td>-27.840000</td>\n",
       "      <td>0.420000</td>\n",
       "      <td>-0.400000</td>\n",
       "      <td>NaN</td>\n",
       "      <td>-0.350000</td>\n",
       "      <td>NaN</td>\n",
       "    </tr>\n",
       "    <tr>\n",
       "      <th>25%</th>\n",
       "      <td>7.210000</td>\n",
       "      <td>2.430000</td>\n",
       "      <td>0.800000</td>\n",
       "      <td>0.358000</td>\n",
       "      <td>NaN</td>\n",
       "      <td>14.756515</td>\n",
       "      <td>NaN</td>\n",
       "    </tr>\n",
       "    <tr>\n",
       "      <th>50%</th>\n",
       "      <td>8.160000</td>\n",
       "      <td>4.440000</td>\n",
       "      <td>0.990000</td>\n",
       "      <td>0.703000</td>\n",
       "      <td>NaN</td>\n",
       "      <td>16.020827</td>\n",
       "      <td>NaN</td>\n",
       "    </tr>\n",
       "    <tr>\n",
       "      <th>75%</th>\n",
       "      <td>8.830000</td>\n",
       "      <td>8.232500</td>\n",
       "      <td>1.230000</td>\n",
       "      <td>1.129000</td>\n",
       "      <td>NaN</td>\n",
       "      <td>17.590542</td>\n",
       "      <td>NaN</td>\n",
       "    </tr>\n",
       "    <tr>\n",
       "      <th>max</th>\n",
       "      <td>12.850000</td>\n",
       "      <td>772.330017</td>\n",
       "      <td>40.630001</td>\n",
       "      <td>3.440000</td>\n",
       "      <td>NaN</td>\n",
       "      <td>30.449015</td>\n",
       "      <td>NaN</td>\n",
       "    </tr>\n",
       "  </tbody>\n",
       "</table>\n",
       "</div>"
      ],
      "text/plain": [
       "                Vmag           Plx         e_Plx           B-V SpType  \\\n",
       "count   39552.000000  39552.000000  39552.000000  39552.000000  39552   \n",
       "unique           NaN           NaN           NaN           NaN   2576   \n",
       "top              NaN           NaN           NaN           NaN  K0III   \n",
       "freq             NaN           NaN           NaN           NaN   2841   \n",
       "mean        7.921288      7.117379      1.109707      0.744332    NaN   \n",
       "std         1.308845     12.446209      0.788118      0.513990    NaN   \n",
       "min        -0.620000    -27.840000      0.420000     -0.400000    NaN   \n",
       "25%         7.210000      2.430000      0.800000      0.358000    NaN   \n",
       "50%         8.160000      4.440000      0.990000      0.703000    NaN   \n",
       "75%         8.830000      8.232500      1.230000      1.129000    NaN   \n",
       "max        12.850000    772.330017     40.630001      3.440000    NaN   \n",
       "\n",
       "                Amag  TargetClass  \n",
       "count   39552.000000      39552.0  \n",
       "unique           NaN          2.0  \n",
       "top              NaN          1.0  \n",
       "freq             NaN      19776.0  \n",
       "mean       16.050629          NaN  \n",
       "std         2.443930          NaN  \n",
       "min        -0.350000          NaN  \n",
       "25%        14.756515          NaN  \n",
       "50%        16.020827          NaN  \n",
       "75%        17.590542          NaN  \n",
       "max        30.449015          NaN  "
      ]
     },
     "execution_count": 33,
     "metadata": {},
     "output_type": "execute_result"
    }
   ],
   "source": [
    "df_downsampled.describe(include='all')"
   ]
  },
  {
   "cell_type": "code",
   "execution_count": 34,
   "metadata": {},
   "outputs": [
    {
     "name": "stdout",
     "output_type": "stream",
     "text": [
      "<class 'pandas.core.frame.DataFrame'>\n",
      "Int64Index: 39552 entries, 3300 to 47496\n",
      "Data columns (total 7 columns):\n",
      " #   Column       Non-Null Count  Dtype  \n",
      "---  ------       --------------  -----  \n",
      " 0   Vmag         39552 non-null  float32\n",
      " 1   Plx          39552 non-null  float32\n",
      " 2   e_Plx        39552 non-null  float32\n",
      " 3   B-V          39552 non-null  float32\n",
      " 4   SpType       39552 non-null  object \n",
      " 5   Amag         39552 non-null  float32\n",
      " 6   TargetClass  39552 non-null  object \n",
      "dtypes: float32(5), object(2)\n",
      "memory usage: 1.7+ MB\n"
     ]
    }
   ],
   "source": [
    "df_downsampled.info()"
   ]
  },
  {
   "cell_type": "markdown",
   "metadata": {},
   "source": [
    "Yeah, Reindex."
   ]
  },
  {
   "cell_type": "code",
   "execution_count": 35,
   "metadata": {},
   "outputs": [
    {
     "name": "stdout",
     "output_type": "stream",
     "text": [
      "<class 'pandas.core.frame.DataFrame'>\n",
      "RangeIndex: 39552 entries, 0 to 39551\n",
      "Data columns (total 7 columns):\n",
      " #   Column       Non-Null Count  Dtype  \n",
      "---  ------       --------------  -----  \n",
      " 0   Vmag         39552 non-null  float32\n",
      " 1   Plx          39552 non-null  float32\n",
      " 2   e_Plx        39552 non-null  float32\n",
      " 3   B-V          39552 non-null  float32\n",
      " 4   SpType       39552 non-null  object \n",
      " 5   Amag         39552 non-null  float32\n",
      " 6   TargetClass  39552 non-null  object \n",
      "dtypes: float32(5), object(2)\n",
      "memory usage: 1.4+ MB\n"
     ]
    }
   ],
   "source": [
    "df_balanced = df_downsampled.reset_index(drop=True)\n",
    "\n",
    "df_balanced.info()"
   ]
  },
  {
   "cell_type": "code",
   "execution_count": 36,
   "metadata": {},
   "outputs": [
    {
     "data": {
      "text/html": [
       "<div>\n",
       "<style scoped>\n",
       "    .dataframe tbody tr th:only-of-type {\n",
       "        vertical-align: middle;\n",
       "    }\n",
       "\n",
       "    .dataframe tbody tr th {\n",
       "        vertical-align: top;\n",
       "    }\n",
       "\n",
       "    .dataframe thead th {\n",
       "        text-align: right;\n",
       "    }\n",
       "</style>\n",
       "<table border=\"1\" class=\"dataframe\">\n",
       "  <thead>\n",
       "    <tr style=\"text-align: right;\">\n",
       "      <th></th>\n",
       "      <th>Vmag</th>\n",
       "      <th>Plx</th>\n",
       "      <th>e_Plx</th>\n",
       "      <th>B-V</th>\n",
       "      <th>SpType</th>\n",
       "      <th>Amag</th>\n",
       "      <th>TargetClass</th>\n",
       "    </tr>\n",
       "  </thead>\n",
       "  <tbody>\n",
       "    <tr>\n",
       "      <th>0</th>\n",
       "      <td>9.03</td>\n",
       "      <td>3.650000</td>\n",
       "      <td>1.01</td>\n",
       "      <td>1.146</td>\n",
       "      <td>K2III/IVCN.</td>\n",
       "      <td>16.841465</td>\n",
       "      <td>1</td>\n",
       "    </tr>\n",
       "    <tr>\n",
       "      <th>1</th>\n",
       "      <td>7.88</td>\n",
       "      <td>31.879999</td>\n",
       "      <td>0.98</td>\n",
       "      <td>0.716</td>\n",
       "      <td>G8V</td>\n",
       "      <td>20.397591</td>\n",
       "      <td>1</td>\n",
       "    </tr>\n",
       "    <tr>\n",
       "      <th>2</th>\n",
       "      <td>9.29</td>\n",
       "      <td>5.160000</td>\n",
       "      <td>1.35</td>\n",
       "      <td>0.400</td>\n",
       "      <td>F0V</td>\n",
       "      <td>17.853249</td>\n",
       "      <td>1</td>\n",
       "    </tr>\n",
       "    <tr>\n",
       "      <th>3</th>\n",
       "      <td>7.51</td>\n",
       "      <td>12.850000</td>\n",
       "      <td>0.84</td>\n",
       "      <td>0.541</td>\n",
       "      <td>F7V</td>\n",
       "      <td>18.054516</td>\n",
       "      <td>1</td>\n",
       "    </tr>\n",
       "    <tr>\n",
       "      <th>4</th>\n",
       "      <td>9.10</td>\n",
       "      <td>6.190000</td>\n",
       "      <td>3.26</td>\n",
       "      <td>0.484</td>\n",
       "      <td>F3:V+...</td>\n",
       "      <td>18.058453</td>\n",
       "      <td>1</td>\n",
       "    </tr>\n",
       "    <tr>\n",
       "      <th>...</th>\n",
       "      <td>...</td>\n",
       "      <td>...</td>\n",
       "      <td>...</td>\n",
       "      <td>...</td>\n",
       "      <td>...</td>\n",
       "      <td>...</td>\n",
       "      <td>...</td>\n",
       "    </tr>\n",
       "    <tr>\n",
       "      <th>39547</th>\n",
       "      <td>8.05</td>\n",
       "      <td>6.240000</td>\n",
       "      <td>1.17</td>\n",
       "      <td>1.157</td>\n",
       "      <td>K2III</td>\n",
       "      <td>17.025925</td>\n",
       "      <td>0</td>\n",
       "    </tr>\n",
       "    <tr>\n",
       "      <th>39548</th>\n",
       "      <td>8.79</td>\n",
       "      <td>0.890000</td>\n",
       "      <td>1.28</td>\n",
       "      <td>1.194</td>\n",
       "      <td>K1III</td>\n",
       "      <td>13.536950</td>\n",
       "      <td>0</td>\n",
       "    </tr>\n",
       "    <tr>\n",
       "      <th>39549</th>\n",
       "      <td>8.00</td>\n",
       "      <td>0.410000</td>\n",
       "      <td>0.92</td>\n",
       "      <td>0.854</td>\n",
       "      <td>F6Iab</td>\n",
       "      <td>11.063919</td>\n",
       "      <td>0</td>\n",
       "    </tr>\n",
       "    <tr>\n",
       "      <th>39550</th>\n",
       "      <td>7.69</td>\n",
       "      <td>6.600000</td>\n",
       "      <td>0.92</td>\n",
       "      <td>1.110</td>\n",
       "      <td>K2III</td>\n",
       "      <td>16.787720</td>\n",
       "      <td>0</td>\n",
       "    </tr>\n",
       "    <tr>\n",
       "      <th>39551</th>\n",
       "      <td>8.51</td>\n",
       "      <td>-1.180000</td>\n",
       "      <td>1.34</td>\n",
       "      <td>1.568</td>\n",
       "      <td>K5/M0III</td>\n",
       "      <td>13.869411</td>\n",
       "      <td>0</td>\n",
       "    </tr>\n",
       "  </tbody>\n",
       "</table>\n",
       "<p>39552 rows × 7 columns</p>\n",
       "</div>"
      ],
      "text/plain": [
       "       Vmag        Plx  e_Plx    B-V       SpType       Amag TargetClass\n",
       "0      9.03   3.650000   1.01  1.146  K2III/IVCN.  16.841465           1\n",
       "1      7.88  31.879999   0.98  0.716          G8V  20.397591           1\n",
       "2      9.29   5.160000   1.35  0.400          F0V  17.853249           1\n",
       "3      7.51  12.850000   0.84  0.541          F7V  18.054516           1\n",
       "4      9.10   6.190000   3.26  0.484     F3:V+...  18.058453           1\n",
       "...     ...        ...    ...    ...          ...        ...         ...\n",
       "39547  8.05   6.240000   1.17  1.157        K2III  17.025925           0\n",
       "39548  8.79   0.890000   1.28  1.194        K1III  13.536950           0\n",
       "39549  8.00   0.410000   0.92  0.854        F6Iab  11.063919           0\n",
       "39550  7.69   6.600000   0.92  1.110        K2III  16.787720           0\n",
       "39551  8.51  -1.180000   1.34  1.568     K5/M0III  13.869411           0\n",
       "\n",
       "[39552 rows x 7 columns]"
      ]
     },
     "execution_count": 36,
     "metadata": {},
     "output_type": "execute_result"
    }
   ],
   "source": [
    "df_balanced"
   ]
  },
  {
   "cell_type": "code",
   "execution_count": 37,
   "metadata": {},
   "outputs": [
    {
     "data": {
      "text/html": [
       "<div>\n",
       "<style scoped>\n",
       "    .dataframe tbody tr th:only-of-type {\n",
       "        vertical-align: middle;\n",
       "    }\n",
       "\n",
       "    .dataframe tbody tr th {\n",
       "        vertical-align: top;\n",
       "    }\n",
       "\n",
       "    .dataframe thead th {\n",
       "        text-align: right;\n",
       "    }\n",
       "</style>\n",
       "<table border=\"1\" class=\"dataframe\">\n",
       "  <thead>\n",
       "    <tr style=\"text-align: right;\">\n",
       "      <th></th>\n",
       "      <th>Vmag</th>\n",
       "      <th>Plx</th>\n",
       "      <th>e_Plx</th>\n",
       "      <th>B-V</th>\n",
       "      <th>SpType</th>\n",
       "      <th>Amag</th>\n",
       "      <th>TargetClass</th>\n",
       "    </tr>\n",
       "  </thead>\n",
       "  <tbody>\n",
       "    <tr>\n",
       "      <th>0</th>\n",
       "      <td>8.41</td>\n",
       "      <td>5.50</td>\n",
       "      <td>1.06</td>\n",
       "      <td>1.086</td>\n",
       "      <td>K1III</td>\n",
       "      <td>17.111813</td>\n",
       "      <td>0</td>\n",
       "    </tr>\n",
       "    <tr>\n",
       "      <th>1</th>\n",
       "      <td>7.76</td>\n",
       "      <td>4.72</td>\n",
       "      <td>0.96</td>\n",
       "      <td>1.119</td>\n",
       "      <td>K1III</td>\n",
       "      <td>16.129711</td>\n",
       "      <td>0</td>\n",
       "    </tr>\n",
       "    <tr>\n",
       "      <th>2</th>\n",
       "      <td>8.59</td>\n",
       "      <td>3.94</td>\n",
       "      <td>1.12</td>\n",
       "      <td>1.053</td>\n",
       "      <td>K1III</td>\n",
       "      <td>16.567482</td>\n",
       "      <td>0</td>\n",
       "    </tr>\n",
       "    <tr>\n",
       "      <th>3</th>\n",
       "      <td>8.72</td>\n",
       "      <td>7.94</td>\n",
       "      <td>1.13</td>\n",
       "      <td>0.569</td>\n",
       "      <td>F8Vw...</td>\n",
       "      <td>18.219103</td>\n",
       "      <td>1</td>\n",
       "    </tr>\n",
       "    <tr>\n",
       "      <th>4</th>\n",
       "      <td>5.64</td>\n",
       "      <td>11.15</td>\n",
       "      <td>0.70</td>\n",
       "      <td>1.121</td>\n",
       "      <td>K0III</td>\n",
       "      <td>15.876373</td>\n",
       "      <td>0</td>\n",
       "    </tr>\n",
       "    <tr>\n",
       "      <th>...</th>\n",
       "      <td>...</td>\n",
       "      <td>...</td>\n",
       "      <td>...</td>\n",
       "      <td>...</td>\n",
       "      <td>...</td>\n",
       "      <td>...</td>\n",
       "      <td>...</td>\n",
       "    </tr>\n",
       "    <tr>\n",
       "      <th>39547</th>\n",
       "      <td>7.49</td>\n",
       "      <td>5.42</td>\n",
       "      <td>1.02</td>\n",
       "      <td>0.116</td>\n",
       "      <td>A2Vs</td>\n",
       "      <td>16.159996</td>\n",
       "      <td>1</td>\n",
       "    </tr>\n",
       "    <tr>\n",
       "      <th>39548</th>\n",
       "      <td>9.41</td>\n",
       "      <td>5.54</td>\n",
       "      <td>1.58</td>\n",
       "      <td>0.496</td>\n",
       "      <td>F3V</td>\n",
       "      <td>18.127548</td>\n",
       "      <td>1</td>\n",
       "    </tr>\n",
       "    <tr>\n",
       "      <th>39549</th>\n",
       "      <td>8.52</td>\n",
       "      <td>2.71</td>\n",
       "      <td>1.39</td>\n",
       "      <td>1.083</td>\n",
       "      <td>K0III</td>\n",
       "      <td>15.684847</td>\n",
       "      <td>0</td>\n",
       "    </tr>\n",
       "    <tr>\n",
       "      <th>39550</th>\n",
       "      <td>8.42</td>\n",
       "      <td>7.39</td>\n",
       "      <td>3.96</td>\n",
       "      <td>0.300</td>\n",
       "      <td>A9V</td>\n",
       "      <td>17.763222</td>\n",
       "      <td>1</td>\n",
       "    </tr>\n",
       "    <tr>\n",
       "      <th>39551</th>\n",
       "      <td>7.23</td>\n",
       "      <td>5.66</td>\n",
       "      <td>0.91</td>\n",
       "      <td>1.673</td>\n",
       "      <td>M1III</td>\n",
       "      <td>15.994081</td>\n",
       "      <td>0</td>\n",
       "    </tr>\n",
       "  </tbody>\n",
       "</table>\n",
       "<p>39552 rows × 7 columns</p>\n",
       "</div>"
      ],
      "text/plain": [
       "       Vmag    Plx  e_Plx    B-V   SpType       Amag TargetClass\n",
       "0      8.41   5.50   1.06  1.086    K1III  17.111813           0\n",
       "1      7.76   4.72   0.96  1.119    K1III  16.129711           0\n",
       "2      8.59   3.94   1.12  1.053    K1III  16.567482           0\n",
       "3      8.72   7.94   1.13  0.569  F8Vw...  18.219103           1\n",
       "4      5.64  11.15   0.70  1.121    K0III  15.876373           0\n",
       "...     ...    ...    ...    ...      ...        ...         ...\n",
       "39547  7.49   5.42   1.02  0.116     A2Vs  16.159996           1\n",
       "39548  9.41   5.54   1.58  0.496      F3V  18.127548           1\n",
       "39549  8.52   2.71   1.39  1.083    K0III  15.684847           0\n",
       "39550  8.42   7.39   3.96  0.300      A9V  17.763222           1\n",
       "39551  7.23   5.66   0.91  1.673    M1III  15.994081           0\n",
       "\n",
       "[39552 rows x 7 columns]"
      ]
     },
     "execution_count": 37,
     "metadata": {},
     "output_type": "execute_result"
    }
   ],
   "source": [
    "df_balanced = df_balanced.sample(frac=1).reset_index(drop=True)\n",
    "\n",
    "df_balanced"
   ]
  },
  {
   "cell_type": "markdown",
   "metadata": {},
   "source": [
    "Finally done!"
   ]
  },
  {
   "cell_type": "code",
   "execution_count": 38,
   "metadata": {},
   "outputs": [],
   "source": [
    "#Save our dataset, we can finally play with it!!!\n",
    "df_balanced.to_csv(\"Star39552_balanced.csv\", index=False)"
   ]
  },
  {
   "cell_type": "markdown",
   "metadata": {},
   "source": [
    "# Classification\n",
    "\n",
    "### We use three models here: Logistic Regression, RandomForest, XGBoost Classifier. The hyper parameters are also tuned to get hugher accuracy\n"
   ]
  },
  {
   "cell_type": "code",
   "execution_count": 39,
   "metadata": {},
   "outputs": [],
   "source": [
    "#importing required files\n",
    "\n",
    "import pandas as pd\n",
    "import numpy as np\n",
    "import math\n",
    "from math import sqrt\n",
    "import seaborn as sns\n",
    "import matplotlib.pyplot as plt\n",
    "from sklearn.preprocessing import LabelEncoder\n",
    "from sklearn.metrics import mean_squared_error\n",
    "\n",
    "from sklearn.linear_model import LogisticRegression\n",
    "from sklearn.model_selection import train_test_split, GridSearchCV\n",
    "from sklearn.preprocessing import MinMaxScaler\n",
    "from sklearn.metrics import accuracy_score\n",
    "from sklearn.metrics import confusion_matrix\n",
    "\n",
    "from sklearn.tree  import DecisionTreeClassifier\n",
    "from sklearn.ensemble import RandomForestClassifier\n",
    "from sklearn import tree\n"
   ]
  },
  {
   "cell_type": "code",
   "execution_count": 40,
   "metadata": {},
   "outputs": [
    {
     "data": {
      "text/plain": [
       "Vmag              AxesSubplot(0.125,0.799681;0.133621x0.0803191)\n",
       "Plx            AxesSubplot(0.285345,0.799681;0.133621x0.0803191)\n",
       "e_Plx           AxesSubplot(0.44569,0.799681;0.133621x0.0803191)\n",
       "B-V            AxesSubplot(0.606034,0.799681;0.133621x0.0803191)\n",
       "Amag           AxesSubplot(0.766379,0.799681;0.133621x0.0803191)\n",
       "TargetClass       AxesSubplot(0.125,0.703298;0.133621x0.0803191)\n",
       "dtype: object"
      ]
     },
     "execution_count": 40,
     "metadata": {},
     "output_type": "execute_result"
    },
    {
     "data": {
      "image/png": "[encoded data removed]",
      "text/plain": [
       "<Figure size 1224x1440 with 40 Axes>"
      ]
     },
     "metadata": {
      "needs_background": "light"
     },
     "output_type": "display_data"
    }
   ],
   "source": [
    "#Outliers plotting\n",
    "\n",
    "star=pd.read_csv('Star39552_balanced.csv')\n",
    "star1=star\n",
    "star.plot(kind='box', subplots=True, layout=(8,5), figsize=(17,20))\n"
   ]
  },
  {
   "cell_type": "code",
   "execution_count": 41,
   "metadata": {},
   "outputs": [
    {
     "data": {
      "text/html": [
       "<div>\n",
       "<style scoped>\n",
       "    .dataframe tbody tr th:only-of-type {\n",
       "        vertical-align: middle;\n",
       "    }\n",
       "\n",
       "    .dataframe tbody tr th {\n",
       "        vertical-align: top;\n",
       "    }\n",
       "\n",
       "    .dataframe thead th {\n",
       "        text-align: right;\n",
       "    }\n",
       "</style>\n",
       "<table border=\"1\" class=\"dataframe\">\n",
       "  <thead>\n",
       "    <tr style=\"text-align: right;\">\n",
       "      <th></th>\n",
       "      <th>Vmag</th>\n",
       "      <th>Plx</th>\n",
       "      <th>e_Plx</th>\n",
       "      <th>B-V</th>\n",
       "      <th>Amag</th>\n",
       "      <th>TargetClass</th>\n",
       "    </tr>\n",
       "  </thead>\n",
       "  <tbody>\n",
       "    <tr>\n",
       "      <th>count</th>\n",
       "      <td>39552.000000</td>\n",
       "      <td>39552.000000</td>\n",
       "      <td>39552.000000</td>\n",
       "      <td>39552.000000</td>\n",
       "      <td>39552.000000</td>\n",
       "      <td>39552.000000</td>\n",
       "    </tr>\n",
       "    <tr>\n",
       "      <th>mean</th>\n",
       "      <td>7.921309</td>\n",
       "      <td>7.117378</td>\n",
       "      <td>1.109705</td>\n",
       "      <td>0.744336</td>\n",
       "      <td>16.050687</td>\n",
       "      <td>0.500000</td>\n",
       "    </tr>\n",
       "    <tr>\n",
       "      <th>std</th>\n",
       "      <td>1.308857</td>\n",
       "      <td>12.446291</td>\n",
       "      <td>0.788133</td>\n",
       "      <td>0.513987</td>\n",
       "      <td>2.443937</td>\n",
       "      <td>0.500006</td>\n",
       "    </tr>\n",
       "    <tr>\n",
       "      <th>min</th>\n",
       "      <td>-0.620000</td>\n",
       "      <td>-27.840000</td>\n",
       "      <td>0.420000</td>\n",
       "      <td>-0.400000</td>\n",
       "      <td>-0.350000</td>\n",
       "      <td>0.000000</td>\n",
       "    </tr>\n",
       "    <tr>\n",
       "      <th>25%</th>\n",
       "      <td>7.210000</td>\n",
       "      <td>2.430000</td>\n",
       "      <td>0.800000</td>\n",
       "      <td>0.358000</td>\n",
       "      <td>14.756514</td>\n",
       "      <td>0.000000</td>\n",
       "    </tr>\n",
       "    <tr>\n",
       "      <th>50%</th>\n",
       "      <td>8.160000</td>\n",
       "      <td>4.440000</td>\n",
       "      <td>0.990000</td>\n",
       "      <td>0.703000</td>\n",
       "      <td>16.020827</td>\n",
       "      <td>0.500000</td>\n",
       "    </tr>\n",
       "    <tr>\n",
       "      <th>75%</th>\n",
       "      <td>8.830000</td>\n",
       "      <td>8.232500</td>\n",
       "      <td>1.230000</td>\n",
       "      <td>1.129000</td>\n",
       "      <td>17.590542</td>\n",
       "      <td>1.000000</td>\n",
       "    </tr>\n",
       "    <tr>\n",
       "      <th>max</th>\n",
       "      <td>12.850000</td>\n",
       "      <td>772.330000</td>\n",
       "      <td>40.630000</td>\n",
       "      <td>3.440000</td>\n",
       "      <td>30.449015</td>\n",
       "      <td>1.000000</td>\n",
       "    </tr>\n",
       "  </tbody>\n",
       "</table>\n",
       "</div>"
      ],
      "text/plain": [
       "               Vmag           Plx         e_Plx           B-V          Amag  \\\n",
       "count  39552.000000  39552.000000  39552.000000  39552.000000  39552.000000   \n",
       "mean       7.921309      7.117378      1.109705      0.744336     16.050687   \n",
       "std        1.308857     12.446291      0.788133      0.513987      2.443937   \n",
       "min       -0.620000    -27.840000      0.420000     -0.400000     -0.350000   \n",
       "25%        7.210000      2.430000      0.800000      0.358000     14.756514   \n",
       "50%        8.160000      4.440000      0.990000      0.703000     16.020827   \n",
       "75%        8.830000      8.232500      1.230000      1.129000     17.590542   \n",
       "max       12.850000    772.330000     40.630000      3.440000     30.449015   \n",
       "\n",
       "        TargetClass  \n",
       "count  39552.000000  \n",
       "mean       0.500000  \n",
       "std        0.500006  \n",
       "min        0.000000  \n",
       "25%        0.000000  \n",
       "50%        0.500000  \n",
       "75%        1.000000  \n",
       "max        1.000000  "
      ]
     },
     "execution_count": 41,
     "metadata": {},
     "output_type": "execute_result"
    }
   ],
   "source": [
    "star.describe()"
   ]
  },
  {
   "cell_type": "code",
   "execution_count": 42,
   "metadata": {},
   "outputs": [],
   "source": [
    "star=star[star['Vmag']<star['Vmag'].quantile(0.9)]\n",
    "star=star[star['Plx']<star['Plx'].quantile(0.9)]\n",
    "star=star[star['e_Plx']<star['e_Plx'].quantile(0.9)]\n",
    "star=star[star['B-V']<star['B-V'].quantile(0.9)]\n",
    "star=star[star['Amag']<star['Amag'].quantile(0.9)]"
   ]
  },
  {
   "cell_type": "code",
   "execution_count": 43,
   "metadata": {},
   "outputs": [
    {
     "data": {
      "text/plain": [
       "Vmag              AxesSubplot(0.125,0.799681;0.133621x0.0803191)\n",
       "Plx            AxesSubplot(0.285345,0.799681;0.133621x0.0803191)\n",
       "e_Plx           AxesSubplot(0.44569,0.799681;0.133621x0.0803191)\n",
       "B-V            AxesSubplot(0.606034,0.799681;0.133621x0.0803191)\n",
       "Amag           AxesSubplot(0.766379,0.799681;0.133621x0.0803191)\n",
       "TargetClass       AxesSubplot(0.125,0.703298;0.133621x0.0803191)\n",
       "dtype: object"
      ]
     },
     "execution_count": 43,
     "metadata": {},
     "output_type": "execute_result"
    },
    {
     "data": {
      "image/png": "[encoded data removed]",
      "text/plain": [
       "<Figure size 1224x1440 with 40 Axes>"
      ]
     },
     "metadata": {
      "needs_background": "light"
     },
     "output_type": "display_data"
    }
   ],
   "source": [
    "star.plot(kind='box', subplots=True, layout=(8,5), figsize=(17,20))"
   ]
  },
  {
   "cell_type": "code",
   "execution_count": 44,
   "metadata": {},
   "outputs": [],
   "source": [
    "#converting data types\n",
    "\n",
    "SpType_le = LabelEncoder()  \n",
    "star['SpType'] = SpType_le.fit_transform(star[\"SpType\"])\n",
    "       "
   ]
  },
  {
   "cell_type": "code",
   "execution_count": 45,
   "metadata": {},
   "outputs": [],
   "source": [
    "#splitting data\n",
    "\n",
    "inputs = star.drop(\"TargetClass\", axis = 1).values\n",
    "target = star['TargetClass'].values\n",
    "\n",
    "train_inputs, test_inputs , train_target, test_target = train_test_split(inputs,target , test_size= 0.3 , random_state=42)"
   ]
  },
  {
   "cell_type": "code",
   "execution_count": 46,
   "metadata": {},
   "outputs": [
    {
     "data": {
      "text/plain": [
       "(16305, 6)"
      ]
     },
     "execution_count": 46,
     "metadata": {},
     "output_type": "execute_result"
    }
   ],
   "source": [
    "train_inputs.shape\n"
   ]
  },
  {
   "cell_type": "code",
   "execution_count": 47,
   "metadata": {},
   "outputs": [],
   "source": [
    "model_accuracy={}\n"
   ]
  },
  {
   "cell_type": "code",
   "execution_count": 48,
   "metadata": {},
   "outputs": [],
   "source": [
    "def rmse(inputs, target):\n",
    "    rmse=mean_squared_error(inputs, target, squared=False)\n",
    "    return rmse"
   ]
  },
  {
   "cell_type": "markdown",
   "metadata": {},
   "source": [
    "# Logistic Regression"
   ]
  },
  {
   "cell_type": "code",
   "execution_count": 135,
   "metadata": {},
   "outputs": [
    {
     "data": {
      "text/plain": [
       "LogisticRegression(solver='liblinear')"
      ]
     },
     "execution_count": 135,
     "metadata": {},
     "output_type": "execute_result"
    }
   ],
   "source": [
    "#Fitting model\n",
    "\n",
    "logreg = LogisticRegression(solver='liblinear')\n",
    "logreg.fit(train_inputs,train_target)"
   ]
  },
  {
   "cell_type": "code",
   "execution_count": 136,
   "metadata": {},
   "outputs": [
    {
     "data": {
      "text/plain": [
       "0.8526832260042931"
      ]
     },
     "execution_count": 136,
     "metadata": {},
     "output_type": "execute_result"
    }
   ],
   "source": [
    "logreg.score(train_inputs,train_target)"
   ]
  },
  {
   "cell_type": "code",
   "execution_count": 51,
   "metadata": {},
   "outputs": [],
   "source": [
    "train_pred=logreg.predict(train_inputs)"
   ]
  },
  {
   "cell_type": "code",
   "execution_count": 52,
   "metadata": {},
   "outputs": [
    {
     "data": {
      "text/plain": [
       "0.3838186733285743"
      ]
     },
     "execution_count": 52,
     "metadata": {},
     "output_type": "execute_result"
    }
   ],
   "source": [
    "rmse(train_pred,train_target)"
   ]
  },
  {
   "cell_type": "code",
   "execution_count": 53,
   "metadata": {},
   "outputs": [
    {
     "data": {
      "text/plain": [
       "0.8579195879238803"
      ]
     },
     "execution_count": 53,
     "metadata": {},
     "output_type": "execute_result"
    }
   ],
   "source": [
    "logreg.score(test_inputs,test_target)"
   ]
  },
  {
   "cell_type": "code",
   "execution_count": 54,
   "metadata": {},
   "outputs": [],
   "source": [
    "model_accuracy['Logistic Regression Before Tuning']=round((logreg.score(test_inputs,test_target))*100,2)"
   ]
  },
  {
   "cell_type": "code",
   "execution_count": 55,
   "metadata": {},
   "outputs": [
    {
     "data": {
      "text/plain": [
       "{'Logistic Regression Before Tuning': 85.79}"
      ]
     },
     "execution_count": 55,
     "metadata": {},
     "output_type": "execute_result"
    }
   ],
   "source": [
    "model_accuracy"
   ]
  },
  {
   "cell_type": "code",
   "execution_count": 56,
   "metadata": {},
   "outputs": [
    {
     "data": {
      "text/plain": [
       "0.8526832260042931"
      ]
     },
     "execution_count": 56,
     "metadata": {},
     "output_type": "execute_result"
    }
   ],
   "source": [
    "accuracy_score(train_pred,train_target)"
   ]
  },
  {
   "cell_type": "code",
   "execution_count": 57,
   "metadata": {},
   "outputs": [],
   "source": [
    "test_pred=logreg.predict(test_inputs)"
   ]
  },
  {
   "cell_type": "code",
   "execution_count": 58,
   "metadata": {},
   "outputs": [
    {
     "data": {
      "image/png": "[encoded data removed]",
      "text/plain": [
       "<Figure size 432x288 with 2 Axes>"
      ]
     },
     "metadata": {
      "needs_background": "light"
     },
     "output_type": "display_data"
    }
   ],
   "source": [
    "\n",
    "cf_matrix=confusion_matrix(test_target,test_pred)\n",
    "ax = sns.heatmap(cf_matrix/np.sum(cf_matrix), annot=True, cmap='Blues')\n",
    "\n",
    "ax.set_title('Seaborn Confusion Matrix with labels\\n\\n');\n",
    "ax.set_xlabel('\\nPredicted Values')\n",
    "ax.set_ylabel('Actual Values ');\n",
    "\n",
    "## Ticket labels - List must be in alphabetical order\n",
    "ax.xaxis.set_ticklabels(['False','True'])\n",
    "ax.yaxis.set_ticklabels(['False','True'])\n",
    "\n",
    "## Display the visualization of the Confusion Matrix.\n",
    "plt.show()"
   ]
  },
  {
   "cell_type": "markdown",
   "metadata": {},
   "source": [
    "## Tuning Hyper Parameters of Logistic Regression"
   ]
  },
  {
   "cell_type": "code",
   "execution_count": 59,
   "metadata": {},
   "outputs": [
    {
     "data": {
      "text/plain": [
       "LogisticRegression(penalty='l1', solver='liblinear')"
      ]
     },
     "execution_count": 59,
     "metadata": {},
     "output_type": "execute_result"
    }
   ],
   "source": [
    "logreg1 = LogisticRegression(solver='liblinear', penalty= 'l1')\n",
    "logreg1.fit(train_inputs,train_target)"
   ]
  },
  {
   "cell_type": "code",
   "execution_count": 60,
   "metadata": {},
   "outputs": [
    {
     "data": {
      "text/plain": [
       "0.8524379024839006"
      ]
     },
     "execution_count": 60,
     "metadata": {},
     "output_type": "execute_result"
    }
   ],
   "source": [
    "logreg1.score(train_inputs,train_target)"
   ]
  },
  {
   "cell_type": "code",
   "execution_count": 61,
   "metadata": {},
   "outputs": [
    {
     "data": {
      "text/plain": [
       "0.8582057518958364"
      ]
     },
     "execution_count": 61,
     "metadata": {},
     "output_type": "execute_result"
    }
   ],
   "source": [
    "logreg1.score(test_inputs,test_target)"
   ]
  },
  {
   "cell_type": "code",
   "execution_count": 62,
   "metadata": {},
   "outputs": [],
   "source": [
    "model_accuracy['Logistic Regression After Tuning']=round((logreg1.score(test_inputs,test_target))*100,2)"
   ]
  },
  {
   "cell_type": "code",
   "execution_count": 63,
   "metadata": {},
   "outputs": [
    {
     "data": {
      "text/plain": [
       "{'Logistic Regression Before Tuning': 85.79,\n",
       " 'Logistic Regression After Tuning': 85.82}"
      ]
     },
     "execution_count": 63,
     "metadata": {},
     "output_type": "execute_result"
    }
   ],
   "source": [
    "model_accuracy"
   ]
  },
  {
   "cell_type": "code",
   "execution_count": 64,
   "metadata": {},
   "outputs": [],
   "source": [
    "test_pred1=logreg1.predict(test_inputs)"
   ]
  },
  {
   "cell_type": "code",
   "execution_count": 65,
   "metadata": {},
   "outputs": [
    {
     "data": {
      "image/png": "[encoded data removed]",
      "text/plain": [
       "<Figure size 432x288 with 2 Axes>"
      ]
     },
     "metadata": {
      "needs_background": "light"
     },
     "output_type": "display_data"
    }
   ],
   "source": [
    "cf_matrix1=confusion_matrix(test_target,test_pred1)\n",
    "ax = sns.heatmap(cf_matrix1/np.sum(cf_matrix1), annot=True, cmap='Blues')\n",
    "\n",
    "ax.set_title('Seaborn Confusion Matrix with labels\\n\\n');\n",
    "ax.set_xlabel('\\nPredicted Values')\n",
    "ax.set_ylabel('Actual Values ');\n",
    "\n",
    "## Ticket labels - List must be in alphabetical order\n",
    "ax.xaxis.set_ticklabels(['False','True'])\n",
    "ax.yaxis.set_ticklabels(['False','True'])\n",
    "\n",
    "## Display the visualization of the Confusion Matrix.\n",
    "plt.show()"
   ]
  },
  {
   "cell_type": "code",
   "execution_count": 66,
   "metadata": {},
   "outputs": [
    {
     "name": "stderr",
     "output_type": "stream",
     "text": [
      "D:\\Astro-Pro\\lib\\site-packages\\sklearn\\linear_model\\_sag.py:352: ConvergenceWarning: The max_iter was reached which means the coef_ did not converge\n",
      "  warnings.warn(\n"
     ]
    },
    {
     "data": {
      "text/plain": [
       "LogisticRegression(l1_ratio=0.5, penalty='elasticnet', solver='saga')"
      ]
     },
     "execution_count": 66,
     "metadata": {},
     "output_type": "execute_result"
    }
   ],
   "source": [
    "logreg2 = LogisticRegression(solver='saga', penalty= 'elasticnet', l1_ratio=0.5)\n",
    "logreg2.fit(train_inputs,train_target)"
   ]
  },
  {
   "cell_type": "code",
   "execution_count": 67,
   "metadata": {},
   "outputs": [
    {
     "data": {
      "image/png": "[encoded data removed]",
      "text/plain": [
       "<Figure size 432x288 with 2 Axes>"
      ]
     },
     "metadata": {
      "needs_background": "light"
     },
     "output_type": "display_data"
    }
   ],
   "source": [
    "cf_matrix2=confusion_matrix(test_target,test_pred)\n",
    "ax = sns.heatmap(cf_matrix/np.sum(cf_matrix), annot=True, cmap='Blues')\n",
    "\n",
    "ax.set_title('Seaborn Confusion Matrix with labels\\n\\n');\n",
    "ax.set_xlabel('\\nPredicted Values')\n",
    "ax.set_ylabel('Actual Values ');\n",
    "\n",
    "## Ticket labels - List must be in alphabetical order\n",
    "ax.xaxis.set_ticklabels(['False','True'])\n",
    "ax.yaxis.set_ticklabels(['False','True'])\n",
    "\n",
    "## Display the visualization of the Confusion Matrix.\n",
    "plt.show()"
   ]
  },
  {
   "cell_type": "code",
   "execution_count": 68,
   "metadata": {},
   "outputs": [
    {
     "data": {
      "text/plain": [
       "0.8249003373198406"
      ]
     },
     "execution_count": 68,
     "metadata": {},
     "output_type": "execute_result"
    }
   ],
   "source": [
    "logreg2.score(train_inputs,train_target)"
   ]
  },
  {
   "cell_type": "code",
   "execution_count": 69,
   "metadata": {},
   "outputs": [
    {
     "data": {
      "text/plain": [
       "0.8231506653312348"
      ]
     },
     "execution_count": 69,
     "metadata": {},
     "output_type": "execute_result"
    }
   ],
   "source": [
    "logreg2.score(test_inputs,test_target)"
   ]
  },
  {
   "cell_type": "code",
   "execution_count": 70,
   "metadata": {},
   "outputs": [],
   "source": [
    "test_pred2=logreg2.predict(test_inputs)"
   ]
  },
  {
   "cell_type": "code",
   "execution_count": 71,
   "metadata": {},
   "outputs": [
    {
     "data": {
      "image/png": "[encoded data removed]",
      "text/plain": [
       "<Figure size 432x288 with 2 Axes>"
      ]
     },
     "metadata": {
      "needs_background": "light"
     },
     "output_type": "display_data"
    }
   ],
   "source": [
    "cf_matrix2=confusion_matrix(test_target,test_pred2)\n",
    "ax = sns.heatmap(cf_matrix2/np.sum(cf_matrix2), annot=True, cmap='Blues')\n",
    "\n",
    "ax.set_title('Seaborn Confusion Matrix with labels\\n\\n');\n",
    "ax.set_xlabel('\\nPredicted Values')\n",
    "ax.set_ylabel('Actual Values ');\n",
    "\n",
    "## Ticket labels - List must be in alphabetical order\n",
    "ax.xaxis.set_ticklabels(['False','True'])\n",
    "ax.yaxis.set_ticklabels(['False','True'])\n",
    "\n",
    "## Display the visualization of the Confusion Matrix.\n",
    "plt.show()"
   ]
  },
  {
   "cell_type": "markdown",
   "metadata": {},
   "source": [
    "# Random Forest Classifier"
   ]
  },
  {
   "cell_type": "code",
   "execution_count": 72,
   "metadata": {},
   "outputs": [],
   "source": [
    "from sklearn.ensemble import RandomForestClassifier"
   ]
  },
  {
   "cell_type": "code",
   "execution_count": 73,
   "metadata": {},
   "outputs": [],
   "source": [
    "def test_params(**params):\n",
    "    model = RandomForestClassifier(random_state=42, n_jobs=-1, **params).fit(train_inputs, train_target)\n",
    "    train_acc =model.score(train_inputs, train_target)\n",
    "    test_acc =model.score(test_inputs, test_target)\n",
    "    return train_acc, test_acc"
   ]
  },
  {
   "cell_type": "code",
   "execution_count": 74,
   "metadata": {},
   "outputs": [],
   "source": [
    "def test_param_and_plot(param_name, param_values):\n",
    "    train_accs, test_accs = [], [] \n",
    "    for value in param_values:\n",
    "        params = {param_name: value}\n",
    "        train_acc, test_acc = test_params(**params)\n",
    "        train_accs.append(train_acc)\n",
    "        test_accs.append(test_acc)\n",
    "    plt.figure(figsize=(10,6))\n",
    "    plt.title('Overfitting curve: ' + param_name)\n",
    "    plt.plot(param_values, train_accs, 'b-o')\n",
    "    plt.plot(param_values, test_accs, 'r-o')\n",
    "    plt.xlabel(param_name)\n",
    "    plt.ylabel('Accuracy')\n",
    "    plt.legend(['Training', 'Testing'])"
   ]
  },
  {
   "cell_type": "code",
   "execution_count": 75,
   "metadata": {},
   "outputs": [],
   "source": [
    "rf_model = RandomForestClassifier(random_state=42, n_jobs=-1)"
   ]
  },
  {
   "cell_type": "code",
   "execution_count": 76,
   "metadata": {},
   "outputs": [
    {
     "data": {
      "text/plain": [
       "RandomForestClassifier(n_jobs=-1, random_state=42)"
      ]
     },
     "execution_count": 76,
     "metadata": {},
     "output_type": "execute_result"
    }
   ],
   "source": [
    "rf_model.fit(train_inputs,train_target)"
   ]
  },
  {
   "cell_type": "code",
   "execution_count": 77,
   "metadata": {},
   "outputs": [
    {
     "data": {
      "text/plain": [
       "1.0"
      ]
     },
     "execution_count": 77,
     "metadata": {},
     "output_type": "execute_result"
    }
   ],
   "source": [
    "rf_model.score(train_inputs,train_target)"
   ]
  },
  {
   "cell_type": "code",
   "execution_count": 78,
   "metadata": {},
   "outputs": [
    {
     "data": {
      "text/plain": [
       "0.9072828730862784"
      ]
     },
     "execution_count": 78,
     "metadata": {},
     "output_type": "execute_result"
    }
   ],
   "source": [
    "rf_model.score(test_inputs,test_target)"
   ]
  },
  {
   "cell_type": "code",
   "execution_count": 79,
   "metadata": {},
   "outputs": [],
   "source": [
    "model_accuracy['RandomForestClassifier Before Tuning']=round((rf_model.score(test_inputs,test_target))*100,2)"
   ]
  },
  {
   "cell_type": "code",
   "execution_count": 80,
   "metadata": {},
   "outputs": [
    {
     "data": {
      "image/png": "[encoded data removed]",
      "text/plain": [
       "<Figure size 432x288 with 2 Axes>"
      ]
     },
     "metadata": {
      "needs_background": "light"
     },
     "output_type": "display_data"
    }
   ],
   "source": [
    "rf_model_pred=rf_model.predict(test_inputs)\n",
    "\n",
    "rf_cf_matrix=confusion_matrix(test_target,rf_model_pred)\n",
    "ax = sns.heatmap(rf_cf_matrix/np.sum(rf_cf_matrix), annot=True, cmap='Blues')\n",
    "\n",
    "ax.set_title('Seaborn Confusion Matrix with labels\\n\\n');\n",
    "ax.set_xlabel('\\nPredicted Values')\n",
    "ax.set_ylabel('Actual Values ');\n",
    "\n",
    "## Ticket labels - List must be in alphabetical order\n",
    "ax.xaxis.set_ticklabels(['False','True'])\n",
    "ax.yaxis.set_ticklabels(['False','True'])\n",
    "\n",
    "## Display the visualization of the Confusion Matrix.\n",
    "plt.show()"
   ]
  },
  {
   "cell_type": "code",
   "execution_count": 81,
   "metadata": {},
   "outputs": [],
   "source": [
    "train_inputs_df=pd.DataFrame(train_inputs, columns=['Vmag', 'Plx', 'e_Plx', 'B-V', 'SpType', 'Amag'])"
   ]
  },
  {
   "cell_type": "code",
   "execution_count": 82,
   "metadata": {},
   "outputs": [
    {
     "data": {
      "image/png": "[encoded data removed]",
      "text/plain": [
       "<Figure size 432x288 with 1 Axes>"
      ]
     },
     "metadata": {
      "needs_background": "light"
     },
     "output_type": "display_data"
    }
   ],
   "source": [
    "importance_df = pd.DataFrame({\n",
    "    'feature': train_inputs_df.columns,\n",
    "    'importance': rf_model.feature_importances_\n",
    "}).sort_values('importance', ascending=False)\n",
    "plt.title('Feature Importance')\n",
    "sns.barplot(data=importance_df.head(10), x='importance', y='feature');"
   ]
  },
  {
   "cell_type": "markdown",
   "metadata": {},
   "source": [
    "# Hyper Parameters Tuning of RandomForest Classifier"
   ]
  },
  {
   "cell_type": "code",
   "execution_count": 83,
   "metadata": {},
   "outputs": [
    {
     "data": {
      "image/png": "[encoded data removed]",
      "text/plain": [
       "<Figure size 720x432 with 1 Axes>"
      ]
     },
     "metadata": {
      "needs_background": "light"
     },
     "output_type": "display_data"
    }
   ],
   "source": [
    "test_param_and_plot('max_features', [1,2,3,4,5,6])"
   ]
  },
  {
   "cell_type": "code",
   "execution_count": 84,
   "metadata": {},
   "outputs": [
    {
     "data": {
      "text/plain": [
       "(1.0, 0.9400486478752325)"
      ]
     },
     "execution_count": 84,
     "metadata": {},
     "output_type": "execute_result"
    }
   ],
   "source": [
    "test_params(max_features=5)"
   ]
  },
  {
   "cell_type": "code",
   "execution_count": 85,
   "metadata": {},
   "outputs": [
    {
     "data": {
      "text/plain": [
       "(1.0, 0.9477750751180426)"
      ]
     },
     "execution_count": 85,
     "metadata": {},
     "output_type": "execute_result"
    }
   ],
   "source": [
    "test_params(max_features=6)"
   ]
  },
  {
   "cell_type": "markdown",
   "metadata": {},
   "source": [
    "max_features parameter can be fixed at 6 as it gives higer accuracy"
   ]
  },
  {
   "cell_type": "code",
   "execution_count": 86,
   "metadata": {},
   "outputs": [
    {
     "data": {
      "image/png": "[encoded data removed]",
      "text/plain": [
       "<Figure size 720x432 with 1 Axes>"
      ]
     },
     "metadata": {
      "needs_background": "light"
     },
     "output_type": "display_data"
    }
   ],
   "source": [
    "test_param_and_plot('n_estimators', [50,100,200,250])"
   ]
  },
  {
   "cell_type": "code",
   "execution_count": 87,
   "metadata": {},
   "outputs": [
    {
     "data": {
      "text/plain": [
       "(1.0, 0.9072828730862784)"
      ]
     },
     "execution_count": 87,
     "metadata": {},
     "output_type": "execute_result"
    }
   ],
   "source": [
    "test_params(n_estimators=100)"
   ]
  },
  {
   "cell_type": "markdown",
   "metadata": {},
   "source": [
    "n_estimators parameter can be fixed at 100 as it gives higer accuracy"
   ]
  },
  {
   "cell_type": "code",
   "execution_count": 88,
   "metadata": {},
   "outputs": [
    {
     "data": {
      "image/png": "[encoded data removed]",
      "text/plain": [
       "<Figure size 720x432 with 1 Axes>"
      ]
     },
     "metadata": {
      "needs_background": "light"
     },
     "output_type": "display_data"
    }
   ],
   "source": [
    "test_param_and_plot('max_depth', [8,12,16,32,40,64,100])"
   ]
  },
  {
   "cell_type": "code",
   "execution_count": 89,
   "metadata": {},
   "outputs": [
    {
     "data": {
      "text/plain": [
       "(1.0, 0.9072828730862784)"
      ]
     },
     "execution_count": 89,
     "metadata": {},
     "output_type": "execute_result"
    }
   ],
   "source": [
    "test_params(max_depth=36)"
   ]
  },
  {
   "cell_type": "code",
   "execution_count": 90,
   "metadata": {},
   "outputs": [
    {
     "data": {
      "text/plain": [
       "(1.0, 0.9072828730862784)"
      ]
     },
     "execution_count": 90,
     "metadata": {},
     "output_type": "execute_result"
    }
   ],
   "source": [
    "test_params(max_depth=100)"
   ]
  },
  {
   "cell_type": "markdown",
   "metadata": {},
   "source": [
    "max_depth parameter can be fixed at 36 as it gives higer accuracy"
   ]
  },
  {
   "cell_type": "code",
   "execution_count": 91,
   "metadata": {},
   "outputs": [
    {
     "data": {
      "image/png": "[encoded data removed]",
      "text/plain": [
       "<Figure size 720x432 with 1 Axes>"
      ]
     },
     "metadata": {
      "needs_background": "light"
     },
     "output_type": "display_data"
    }
   ],
   "source": [
    "test_param_and_plot('min_samples_split', [2,4,6,8,14])"
   ]
  },
  {
   "cell_type": "code",
   "execution_count": 92,
   "metadata": {},
   "outputs": [
    {
     "data": {
      "text/plain": [
       "(1.0, 0.9072828730862784)"
      ]
     },
     "execution_count": 92,
     "metadata": {},
     "output_type": "execute_result"
    }
   ],
   "source": [
    "test_params(min_samples_split=2)"
   ]
  },
  {
   "cell_type": "code",
   "execution_count": 93,
   "metadata": {},
   "outputs": [
    {
     "data": {
      "text/plain": [
       "(0.9989573750383318, 0.9078552010301904)"
      ]
     },
     "execution_count": 93,
     "metadata": {},
     "output_type": "execute_result"
    }
   ],
   "source": [
    "test_params(min_samples_split=4)"
   ]
  },
  {
   "cell_type": "markdown",
   "metadata": {},
   "source": [
    "min_samples_split parameter can be fixed at 2 as it gives higer accuracy"
   ]
  },
  {
   "cell_type": "code",
   "execution_count": 94,
   "metadata": {},
   "outputs": [
    {
     "data": {
      "text/plain": [
       "1.0"
      ]
     },
     "execution_count": 94,
     "metadata": {},
     "output_type": "execute_result"
    }
   ],
   "source": [
    "#final model after hyper parameter tuning\n",
    "\n",
    "rf_model_final=RandomForestClassifier(n_estimators=100, n_jobs=-1, random_state=42, max_depth=36, min_samples_split=2, max_features=6)\n",
    "rf_model_final.fit(train_inputs,train_target)\n",
    "rf_model_final.score(train_inputs, train_target)"
   ]
  },
  {
   "cell_type": "code",
   "execution_count": 95,
   "metadata": {},
   "outputs": [
    {
     "data": {
      "text/plain": [
       "0.9476319931320647"
      ]
     },
     "execution_count": 95,
     "metadata": {},
     "output_type": "execute_result"
    }
   ],
   "source": [
    "rf_model_final.score(test_inputs,test_target)"
   ]
  },
  {
   "cell_type": "code",
   "execution_count": 96,
   "metadata": {},
   "outputs": [],
   "source": [
    "model_accuracy['RandomForestClassifier After Tuning']=round((rf_model_final.score(test_inputs,test_target))*100,2)"
   ]
  },
  {
   "cell_type": "code",
   "execution_count": 97,
   "metadata": {},
   "outputs": [
    {
     "data": {
      "image/png": "[encoded data removed]",
      "text/plain": [
       "<Figure size 432x288 with 2 Axes>"
      ]
     },
     "metadata": {
      "needs_background": "light"
     },
     "output_type": "display_data"
    }
   ],
   "source": [
    "rf_model_pred2=rf_model_final.predict(test_inputs)\n",
    "\n",
    "rf_cf_matrix2=confusion_matrix(test_target,rf_model_pred2)\n",
    "ax = sns.heatmap(rf_cf_matrix2/np.sum(rf_cf_matrix2), annot=True, cmap='Blues')\n",
    "\n",
    "ax.set_title('Seaborn Confusion Matrix with labels\\n\\n');\n",
    "ax.set_xlabel('\\nPredicted Values')\n",
    "ax.set_ylabel('Actual Values ');\n",
    "\n",
    "## Ticket labels - List must be in alphabetical order\n",
    "ax.xaxis.set_ticklabels(['False','True'])\n",
    "ax.yaxis.set_ticklabels(['False','True'])\n",
    "\n",
    "## Display the visualization of the Confusion Matrix.\n",
    "plt.show()"
   ]
  },
  {
   "cell_type": "markdown",
   "metadata": {},
   "source": [
    "# Gradient Boosting Machines with XGBoost"
   ]
  },
  {
   "cell_type": "code",
   "execution_count": 98,
   "metadata": {},
   "outputs": [
    {
     "name": "stdout",
     "output_type": "stream",
     "text": [
      "Requirement already satisfied: xgboost in d:\\astro-pro\\lib\\site-packages (1.6.2)\n",
      "Requirement already satisfied: scipy in d:\\astro-pro\\lib\\site-packages (from xgboost) (1.7.3)\n",
      "Requirement already satisfied: numpy in d:\\astro-pro\\lib\\site-packages (from xgboost) (1.21.5)\n",
      "Note: you may need to restart the kernel to use updated packages.\n"
     ]
    }
   ],
   "source": [
    "pip install xgboost\n"
   ]
  },
  {
   "cell_type": "code",
   "execution_count": 99,
   "metadata": {},
   "outputs": [],
   "source": [
    "from xgboost import XGBClassifier"
   ]
  },
  {
   "cell_type": "code",
   "execution_count": 100,
   "metadata": {},
   "outputs": [],
   "source": [
    "xgb_model=XGBClassifier(learning_rate=0.1)"
   ]
  },
  {
   "cell_type": "code",
   "execution_count": 101,
   "metadata": {},
   "outputs": [
    {
     "data": {
      "text/plain": [
       "XGBClassifier(base_score=0.5, booster='gbtree', callbacks=None,\n",
       "              colsample_bylevel=1, colsample_bynode=1, colsample_bytree=1,\n",
       "              early_stopping_rounds=None, enable_categorical=False,\n",
       "              eval_metric=None, gamma=0, gpu_id=-1, grow_policy='depthwise',\n",
       "              importance_type=None, interaction_constraints='',\n",
       "              learning_rate=0.1, max_bin=256, max_cat_to_onehot=4,\n",
       "              max_delta_step=0, max_depth=6, max_leaves=0, min_child_weight=1,\n",
       "              missing=nan, monotone_constraints='()', n_estimators=100,\n",
       "              n_jobs=0, num_parallel_tree=1, predictor='auto', random_state=0,\n",
       "              reg_alpha=0, reg_lambda=1, ...)"
      ]
     },
     "execution_count": 101,
     "metadata": {},
     "output_type": "execute_result"
    }
   ],
   "source": [
    "xgb_model.fit(train_inputs,train_target)"
   ]
  },
  {
   "cell_type": "code",
   "execution_count": 102,
   "metadata": {},
   "outputs": [
    {
     "data": {
      "text/plain": [
       "0.9673719717877951"
      ]
     },
     "execution_count": 102,
     "metadata": {},
     "output_type": "execute_result"
    }
   ],
   "source": [
    "xgb_model.score(train_inputs,train_target)"
   ]
  },
  {
   "cell_type": "code",
   "execution_count": 103,
   "metadata": {},
   "outputs": [
    {
     "data": {
      "text/plain": [
       "0.9510659607955358"
      ]
     },
     "execution_count": 103,
     "metadata": {},
     "output_type": "execute_result"
    }
   ],
   "source": [
    "xgb_model.score(test_inputs,test_target)"
   ]
  },
  {
   "cell_type": "code",
   "execution_count": 104,
   "metadata": {},
   "outputs": [],
   "source": [
    "model_accuracy['XGBCLassifier Before Tuning']=round((xgb_model.score(test_inputs,test_target))*100,2)"
   ]
  },
  {
   "cell_type": "code",
   "execution_count": 105,
   "metadata": {},
   "outputs": [
    {
     "data": {
      "image/png": "[encoded data removed]",
      "text/plain": [
       "<Figure size 432x288 with 2 Axes>"
      ]
     },
     "metadata": {
      "needs_background": "light"
     },
     "output_type": "display_data"
    }
   ],
   "source": [
    "xgb_model_pred=xgb_model.predict(test_inputs)\n",
    "\n",
    "xgb_model_pred=xgb_model.predict(test_inputs)\n",
    "\n",
    "xgb_cf_matrix=confusion_matrix(test_target,xgb_model_pred)\n",
    "ax = sns.heatmap(xgb_cf_matrix/np.sum(xgb_cf_matrix), annot=True, cmap='Blues')\n",
    "\n",
    "ax.set_title('Seaborn Confusion Matrix with labels\\n\\n');\n",
    "ax.set_xlabel('\\nPredicted Values')\n",
    "ax.set_ylabel('Actual Values ');\n",
    "\n",
    "## Ticket labels - List must be in alphabetical order\n",
    "ax.xaxis.set_ticklabels(['False','True'])\n",
    "ax.yaxis.set_ticklabels(['False','True'])\n",
    "\n",
    "## Display the visualization of the Confusion Matrix.\n",
    "plt.show()"
   ]
  },
  {
   "cell_type": "markdown",
   "metadata": {},
   "source": [
    "# Hyper Parameter Tuning of XGBClassifier"
   ]
  },
  {
   "cell_type": "code",
   "execution_count": 106,
   "metadata": {},
   "outputs": [],
   "source": [
    "def test_param(**params):\n",
    "    model = XGBClassifier(random_state=42,n_jobs=-1, **params).fit(train_inputs, train_target)\n",
    "    train_acc =model.score(train_inputs, train_target)\n",
    "    test_acc =model.score(test_inputs, test_target)\n",
    "    return train_acc, test_acc"
   ]
  },
  {
   "cell_type": "code",
   "execution_count": 107,
   "metadata": {},
   "outputs": [],
   "source": [
    "def test_param_and_plot(param_name, param_values):\n",
    "    train_accs, test_accs = [], [] \n",
    "    for value in param_values:\n",
    "        params = {param_name: value}\n",
    "        train_acc, test_acc = test_param(**params)\n",
    "        train_accs.append(train_acc)\n",
    "        test_accs.append(test_acc)\n",
    "    plt.figure(figsize=(10,6))\n",
    "    plt.title('Overfitting curve: ' + param_name)\n",
    "    plt.plot(param_values, train_accs, 'b-o')\n",
    "    plt.plot(param_values, test_accs, 'r-o')\n",
    "    plt.xlabel(param_name)\n",
    "    plt.ylabel('Accuracy')\n",
    "    plt.legend(['Training', 'Testing'])"
   ]
  },
  {
   "cell_type": "code",
   "execution_count": 108,
   "metadata": {},
   "outputs": [
    {
     "data": {
      "image/png": "[encoded data removed]",
      "text/plain": [
       "<Figure size 720x432 with 1 Axes>"
      ]
     },
     "metadata": {
      "needs_background": "light"
     },
     "output_type": "display_data"
    }
   ],
   "source": [
    "test_param_and_plot('n_estimators', [50,100,200,250,300])"
   ]
  },
  {
   "cell_type": "code",
   "execution_count": 109,
   "metadata": {},
   "outputs": [
    {
     "data": {
      "text/plain": [
       "(1.0, 0.9085706109600801)"
      ]
     },
     "execution_count": 109,
     "metadata": {},
     "output_type": "execute_result"
    }
   ],
   "source": [
    "test_params(n_estimators=200)"
   ]
  },
  {
   "cell_type": "code",
   "execution_count": 110,
   "metadata": {},
   "outputs": [
    {
     "data": {
      "text/plain": [
       "(1.0, 0.9072828730862784)"
      ]
     },
     "execution_count": 110,
     "metadata": {},
     "output_type": "execute_result"
    }
   ],
   "source": [
    "test_params(n_estimators=150)"
   ]
  },
  {
   "cell_type": "code",
   "execution_count": 111,
   "metadata": {},
   "outputs": [
    {
     "data": {
      "text/plain": [
       "(1.0, 0.9092860208899699)"
      ]
     },
     "execution_count": 111,
     "metadata": {},
     "output_type": "execute_result"
    }
   ],
   "source": [
    "test_params(n_estimators=250)"
   ]
  },
  {
   "cell_type": "markdown",
   "metadata": {},
   "source": [
    "n_estimators parameter can be fixed a 250 as it gives a higher accuracy "
   ]
  },
  {
   "cell_type": "code",
   "execution_count": 112,
   "metadata": {},
   "outputs": [
    {
     "data": {
      "image/png": "[encoded data removed]",
      "text/plain": [
       "<Figure size 720x432 with 1 Axes>"
      ]
     },
     "metadata": {
      "needs_background": "light"
     },
     "output_type": "display_data"
    }
   ],
   "source": [
    "test_param_and_plot('learning_rate', [0.1,0.3,0.5,0.6,0.8,0.9])"
   ]
  },
  {
   "cell_type": "code",
   "execution_count": 113,
   "metadata": {},
   "outputs": [
    {
     "data": {
      "text/plain": [
       "(0.9973627721557804, 0.9686650450708256)"
      ]
     },
     "execution_count": 113,
     "metadata": {},
     "output_type": "execute_result"
    }
   ],
   "source": [
    "test_param(learning_rate=0.5)"
   ]
  },
  {
   "cell_type": "code",
   "execution_count": 114,
   "metadata": {},
   "outputs": [
    {
     "data": {
      "text/plain": [
       "(0.9996933455995094, 0.9679496351409358)"
      ]
     },
     "execution_count": 114,
     "metadata": {},
     "output_type": "execute_result"
    }
   ],
   "source": [
    "test_param(learning_rate=0.7)"
   ]
  },
  {
   "cell_type": "code",
   "execution_count": 115,
   "metadata": {},
   "outputs": [
    {
     "data": {
      "text/plain": [
       "(0.9956455075130328, 0.9646587494634425)"
      ]
     },
     "execution_count": 115,
     "metadata": {},
     "output_type": "execute_result"
    }
   ],
   "source": [
    "test_param(learning_rate=0.4)"
   ]
  },
  {
   "cell_type": "markdown",
   "metadata": {},
   "source": [
    "learning_rate parameter can be fixed at 0.4 as it gives a higher accuracy "
   ]
  },
  {
   "cell_type": "code",
   "execution_count": 116,
   "metadata": {},
   "outputs": [
    {
     "data": {
      "image/png": "[encoded data removed]",
      "text/plain": [
       "<Figure size 720x432 with 1 Axes>"
      ]
     },
     "metadata": {
      "needs_background": "light"
     },
     "output_type": "display_data"
    }
   ],
   "source": [
    "test_param_and_plot('max_depth', [2,4,6,8,10,12,16])"
   ]
  },
  {
   "cell_type": "code",
   "execution_count": 117,
   "metadata": {},
   "outputs": [
    {
     "data": {
      "text/plain": [
       "(0.9977307574363692, 0.9679496351409358)"
      ]
     },
     "execution_count": 117,
     "metadata": {},
     "output_type": "execute_result"
    }
   ],
   "source": [
    "test_param(max_depth=8)"
   ]
  },
  {
   "cell_type": "code",
   "execution_count": 118,
   "metadata": {},
   "outputs": [
    {
     "data": {
      "text/plain": [
       "(0.9942348972707759, 0.9680927171269137)"
      ]
     },
     "execution_count": 118,
     "metadata": {},
     "output_type": "execute_result"
    }
   ],
   "source": [
    "test_param(max_depth=7)"
   ]
  },
  {
   "cell_type": "code",
   "execution_count": 119,
   "metadata": {},
   "outputs": [
    {
     "data": {
      "text/plain": [
       "(0.9993253603189206, 0.9652310774073544)"
      ]
     },
     "execution_count": 119,
     "metadata": {},
     "output_type": "execute_result"
    }
   ],
   "source": [
    "test_param(max_depth=9)"
   ]
  },
  {
   "cell_type": "markdown",
   "metadata": {},
   "source": [
    "max_depth parameter can be fixed at 8 as it gives a higher accuracy "
   ]
  },
  {
   "cell_type": "code",
   "execution_count": 120,
   "metadata": {},
   "outputs": [
    {
     "data": {
      "image/png": "[encoded data removed]",
      "text/plain": [
       "<Figure size 720x432 with 1 Axes>"
      ]
     },
     "metadata": {
      "needs_background": "light"
     },
     "output_type": "display_data"
    }
   ],
   "source": [
    "test_param_and_plot('min_child_weight',[1,2,3,5,8,10])"
   ]
  },
  {
   "cell_type": "code",
   "execution_count": 121,
   "metadata": {},
   "outputs": [
    {
     "data": {
      "text/plain": [
       "(0.9887151180619442, 0.9663757332951781)"
      ]
     },
     "execution_count": 121,
     "metadata": {},
     "output_type": "execute_result"
    }
   ],
   "source": [
    "test_param(min_child_weight=2)"
   ]
  },
  {
   "cell_type": "code",
   "execution_count": 122,
   "metadata": {},
   "outputs": [
    {
     "data": {
      "text/plain": [
       "(0.990064397424103, 0.9678065531549578)"
      ]
     },
     "execution_count": 122,
     "metadata": {},
     "output_type": "execute_result"
    }
   ],
   "source": [
    "test_param(min_child_weight=1)"
   ]
  },
  {
   "cell_type": "code",
   "execution_count": 123,
   "metadata": {},
   "outputs": [
    {
     "data": {
      "text/plain": [
       "(0.9852192578963508, 0.9638002575475748)"
      ]
     },
     "execution_count": 123,
     "metadata": {},
     "output_type": "execute_result"
    }
   ],
   "source": [
    "test_param(min_child_weight=3)"
   ]
  },
  {
   "cell_type": "markdown",
   "metadata": {},
   "source": [
    "min_child_weight parameter can be fixed at 2 as it gives a higher accuracy "
   ]
  },
  {
   "cell_type": "code",
   "execution_count": 124,
   "metadata": {},
   "outputs": [
    {
     "data": {
      "text/plain": [
       "1.0"
      ]
     },
     "execution_count": 124,
     "metadata": {},
     "output_type": "execute_result"
    }
   ],
   "source": [
    "xgb_final=XGBClassifier(random_state=42, n_estimators=250, learning_rate=0.5,max_depth=8, min_child_weight=2)\n",
    "xgb_final.fit(train_inputs,train_target)\n",
    "xgb_final.score(train_inputs,train_target)"
   ]
  },
  {
   "cell_type": "code",
   "execution_count": 125,
   "metadata": {},
   "outputs": [
    {
     "data": {
      "text/plain": [
       "0.9635140935756188"
      ]
     },
     "execution_count": 125,
     "metadata": {},
     "output_type": "execute_result"
    }
   ],
   "source": [
    "xgb_final.score(test_inputs,test_target)"
   ]
  },
  {
   "cell_type": "code",
   "execution_count": 126,
   "metadata": {},
   "outputs": [],
   "source": [
    "model_accuracy['XGBCLassifier After Tuning']=round((xgb_final.score(test_inputs,test_target))*100,2)"
   ]
  },
  {
   "cell_type": "code",
   "execution_count": 127,
   "metadata": {},
   "outputs": [
    {
     "data": {
      "image/png": "[encoded data removed]",
      "text/plain": [
       "<Figure size 432x288 with 2 Axes>"
      ]
     },
     "metadata": {
      "needs_background": "light"
     },
     "output_type": "display_data"
    }
   ],
   "source": [
    "xgb_final_pred=xgb_final.predict(test_inputs)\n",
    "\n",
    "xgb_final_pred=xgb_final.predict(test_inputs)\n",
    "\n",
    "xgb_cf_matrix2=confusion_matrix(test_target,xgb_final_pred)\n",
    "ax = sns.heatmap(xgb_cf_matrix2/np.sum(xgb_cf_matrix2), annot=True, cmap='Blues')\n",
    "\n",
    "ax.set_title('Seaborn Confusion Matrix with labels\\n\\n');\n",
    "ax.set_xlabel('\\nPredicted Values')\n",
    "ax.set_ylabel('Actual Values ');\n",
    "\n",
    "## Ticket labels - List must be in alphabetical order\n",
    "ax.xaxis.set_ticklabels(['False','True'])\n",
    "ax.yaxis.set_ticklabels(['False','True'])\n",
    "\n",
    "## Display the visualization of the Confusion Matrix.\n",
    "plt.show()"
   ]
  },
  {
   "cell_type": "markdown",
   "metadata": {},
   "source": [
    "# Model Comparison"
   ]
  },
  {
   "cell_type": "code",
   "execution_count": 128,
   "metadata": {},
   "outputs": [
    {
     "data": {
      "text/plain": [
       "{'Model': ['Logistic Regression Before Tuning',\n",
       "  'Logistic Regression After Tuning',\n",
       "  'RandomForestClassifier Before Tuning',\n",
       "  'RandomForestClassifier After Tuning',\n",
       "  'XGBCLassifier Before Tuning',\n",
       "  'XGBCLassifier After Tuning'],\n",
       " 'Accuracy': [85.79, 85.82, 90.73, 94.76, 95.11, 96.35]}"
      ]
     },
     "execution_count": 128,
     "metadata": {},
     "output_type": "execute_result"
    }
   ],
   "source": [
    "model_accuracy_={'Model':list(model_accuracy.keys()),'Accuracy':list(model_accuracy.values())}\n",
    "model_accuracy_"
   ]
  },
  {
   "cell_type": "code",
   "execution_count": 129,
   "metadata": {},
   "outputs": [
    {
     "data": {
      "text/html": [
       "<div>\n",
       "<style scoped>\n",
       "    .dataframe tbody tr th:only-of-type {\n",
       "        vertical-align: middle;\n",
       "    }\n",
       "\n",
       "    .dataframe tbody tr th {\n",
       "        vertical-align: top;\n",
       "    }\n",
       "\n",
       "    .dataframe thead th {\n",
       "        text-align: right;\n",
       "    }\n",
       "</style>\n",
       "<table border=\"1\" class=\"dataframe\">\n",
       "  <thead>\n",
       "    <tr style=\"text-align: right;\">\n",
       "      <th></th>\n",
       "      <th>Model</th>\n",
       "      <th>Accuracy</th>\n",
       "    </tr>\n",
       "  </thead>\n",
       "  <tbody>\n",
       "    <tr>\n",
       "      <th>0</th>\n",
       "      <td>Logistic Regression Before Tuning</td>\n",
       "      <td>85.79</td>\n",
       "    </tr>\n",
       "    <tr>\n",
       "      <th>1</th>\n",
       "      <td>Logistic Regression After Tuning</td>\n",
       "      <td>85.82</td>\n",
       "    </tr>\n",
       "    <tr>\n",
       "      <th>2</th>\n",
       "      <td>RandomForestClassifier Before Tuning</td>\n",
       "      <td>90.73</td>\n",
       "    </tr>\n",
       "    <tr>\n",
       "      <th>3</th>\n",
       "      <td>RandomForestClassifier After Tuning</td>\n",
       "      <td>94.76</td>\n",
       "    </tr>\n",
       "    <tr>\n",
       "      <th>4</th>\n",
       "      <td>XGBCLassifier Before Tuning</td>\n",
       "      <td>95.11</td>\n",
       "    </tr>\n",
       "    <tr>\n",
       "      <th>5</th>\n",
       "      <td>XGBCLassifier After Tuning</td>\n",
       "      <td>96.35</td>\n",
       "    </tr>\n",
       "  </tbody>\n",
       "</table>\n",
       "</div>"
      ],
      "text/plain": [
       "                                  Model  Accuracy\n",
       "0     Logistic Regression Before Tuning     85.79\n",
       "1      Logistic Regression After Tuning     85.82\n",
       "2  RandomForestClassifier Before Tuning     90.73\n",
       "3   RandomForestClassifier After Tuning     94.76\n",
       "4           XGBCLassifier Before Tuning     95.11\n",
       "5            XGBCLassifier After Tuning     96.35"
      ]
     },
     "execution_count": 129,
     "metadata": {},
     "output_type": "execute_result"
    }
   ],
   "source": [
    "accuracy = pd.DataFrame.from_dict(model_accuracy_)\n",
    "accuracy"
   ]
  },
  {
   "cell_type": "markdown",
   "metadata": {},
   "source": [
    "#### From the initial models and the final ones after tuning hyperparameters we find that XGB Classifier after tuning gave the highest accuracy."
   ]
  },
  {
   "cell_type": "markdown",
   "metadata": {},
   "source": [
    "# Summary"
   ]
  },
  {
   "cell_type": "markdown",
   "metadata": {},
   "source": [
    "With the given dataset, first we cleaned the data, removed unwanted columns, dropped missing data rows and balanced data. All these steps come under preprocessing data. This helps us set up the stage to apply the models for classification.\n",
    "\n",
    "For classification, we use three different types of models: Logistic Regression, Random FOrest Classifier, XGBClassifier. By recognizing import hyper parameters, we tuned the parameters, and found the model with higher accuracy."
   ]
  },
  {
   "cell_type": "markdown",
   "metadata": {},
   "source": [
    "# Future Work"
   ]
  },
  {
   "cell_type": "markdown",
   "metadata": {},
   "source": [
    "The best model's accuracy is pretty good for a classification. We can try same classification processes to a bigger dataset of stellar classification or a more challenging problem with more features ."
   ]
  },
  {
   "cell_type": "markdown",
   "metadata": {},
   "source": [
    "# References"
   ]
  },
  {
   "cell_type": "markdown",
   "metadata": {},
   "source": [
    "* JOVIAN COURSES\n",
    "* TOP PROJECTS LISTED IN THE JOVIAN COURSE PAGE\n",
    "* KAGGLE COURSES"
   ]
  },
  {
   "cell_type": "code",
   "execution_count": 130,
   "metadata": {},
   "outputs": [
    {
     "name": "stdout",
     "output_type": "stream",
     "text": [
      "Note: you may need to restart the kernel to use updated packages.\n"
     ]
    }
   ],
   "source": [
    "pip install jovian --upgrade --quiet"
   ]
  },
  {
   "cell_type": "code",
   "execution_count": 131,
   "metadata": {},
   "outputs": [],
   "source": [
    "import jovian"
   ]
  },
  {
   "cell_type": "code",
   "execution_count": 132,
   "metadata": {},
   "outputs": [
    {
     "data": {
      "application/javascript": [
       "window.require && require([\"base/js/namespace\"],function(Jupyter){Jupyter.notebook.save_checkpoint()})"
      ],
      "text/plain": [
       "<IPython.core.display.Javascript object>"
      ]
     },
     "metadata": {},
     "output_type": "display_data"
    },
    {
     "name": "stderr",
     "output_type": "stream",
     "text": [
      "\u001b[31m[jovian] Error: The current API key is invalid or expired.\u001b[0m\n"
     ]
    },
    {
     "name": "stdout",
     "output_type": "stream",
     "text": [
      "[jovian] Please enter your API key ( from https://jovian.ai/ ):\u001b[0m\n",
      "API KEY: ········\n",
      "[jovian] Updating notebook \"ee190002042/jovian-ml-project\" on https://jovian.ai/\u001b[0m\n",
      "[jovian] Committed successfully! https://jovian.ai/ee190002042/jovian-ml-project\u001b[0m\n"
     ]
    },
    {
     "data": {
      "text/plain": [
       "'https://jovian.ai/ee190002042/jovian-ml-project'"
      ]
     },
     "execution_count": 132,
     "metadata": {},
     "output_type": "execute_result"
    }
   ],
   "source": [
    "jovian.commit()"
   ]
  },
  {
   "cell_type": "code",
   "execution_count": null,
   "metadata": {},
   "outputs": [],
   "source": []
  }
 ],
 "metadata": {
  "kernelspec": {
   "display_name": "Python 3 (ipykernel)",
   "language": "python",
   "name": "python3"
  },
  "language_info": {
   "codemirror_mode": {
    "name": "ipython",
    "version": 3
   },
   "file_extension": ".py",
   "mimetype": "text/x-python",
   "name": "python",
   "nbconvert_exporter": "python",
   "pygments_lexer": "ipython3",
   "version": "3.9.12"
  }
 },
 "nbformat": 4,
 "nbformat_minor": 4
}
